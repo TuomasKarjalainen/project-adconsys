{
 "cells": [
  {
   "cell_type": "code",
   "execution_count": 9,
   "metadata": {},
   "outputs": [],
   "source": [
    "import pandas as pd\n",
    "import numpy as np\n",
    "import torch\n",
    "import sys\n",
    "from torch import nn\n",
    "from torch import optim"
   ]
  },
  {
   "cell_type": "code",
   "execution_count": 2,
   "metadata": {},
   "outputs": [],
   "source": [
    "# Tämä täytyy olla, jotta moduuleita voidaan ajaa\n",
    "\n",
    "sys.path.append(\"/home/jovyan/work/TeamAdconsys/proj3-team-adconsys/Moduulit/modules\")"
   ]
  },
  {
   "cell_type": "code",
   "execution_count": 3,
   "metadata": {},
   "outputs": [],
   "source": [
    "from rounding import *"
   ]
  },
  {
   "cell_type": "code",
   "execution_count": 4,
   "metadata": {},
   "outputs": [],
   "source": [
    "from dataloaders import *"
   ]
  },
  {
   "cell_type": "code",
   "execution_count": 5,
   "metadata": {},
   "outputs": [
    {
     "name": "stdout",
     "output_type": "stream",
     "text": [
      "-------------------------------------------------------------\n",
      "------------------ Creating Dataloaders ---------------------\n",
      "-------------------------------------------------------------\n",
      "\n",
      "Reading csv-files from /home/jovyan/work/TeamAdconsys/proj3-team-adconsys/Datat/csv/\n",
      "\n",
      "Dataloaders:\n",
      "train_loader: 6013 \n",
      "test_loader: 1621 \n",
      "val_loader: 281 \n",
      "large_test_loader: 7914\n",
      "\n",
      "\n",
      "Done in 1.82 seconds.\n"
     ]
    }
   ],
   "source": [
    "# Määritetään dataloaderit fuktion avulla\n",
    "train_loader, test_loader, val_loader, large_test_loader = dataloaders('/home/jovyan/work/TeamAdconsys/proj3-team-adconsys/Datat/csv')\n"
   ]
  },
  {
   "cell_type": "code",
   "execution_count": 6,
   "metadata": {},
   "outputs": [],
   "source": [
    "#määritellään modeli ja optimizer ja criterion\n",
    "#model = nn.Sequential(nn.Linear(8, 512),\n",
    "#                      nn.ReLU(),\n",
    "#                      nn.Linear(512, 256),\n",
    "#                      nn.ReLU(),\n",
    "#                      nn.Linear(256, 128),\n",
    "#                      nn.ReLU(),\n",
    "#                      nn.Linear(128,87),                 \n",
    "#                      nn.LogSoftmax(dim=1))\n",
    "model = torch.load('15epochs.pth')\n",
    "criterion = nn.NLLLoss()\n",
    "\n",
    "optimizer = optim.Adam(model.parameters(), lr=0.001)\n"
   ]
  },
  {
   "cell_type": "code",
   "execution_count": 10,
   "metadata": {},
   "outputs": [
    {
     "name": "stdout",
     "output_type": "stream",
     "text": [
      "Help on function neuroverkko in module neuroverkkomodel:\n",
      "\n",
      "neuroverkko(model, epochit, optimizer, criterion, train_loader, test_loader)\n",
      "    [Opettaa määrittämäsi mallin valitsemallasi epoch määrällä, optimizerilla ja criterionilla]\n",
      "    \n",
      "    Parameters:\n",
      "        model ([type]): [torc.nn.sequentialissa luotu model] pitää määrittää ennen funktion ajamista\n",
      "        epochit ([type]): [int] epochejen määrä\n",
      "        optimizer ([type]): [torch.optim] torchvisionin optimizer, pitää määrittää ennen funktion ajamista\n",
      "        criterion ([type]): [from torch import nn kirjaston funktio] määritä itsellesi sopiva criterion ennen kuin ajat funktion\n",
      "        train_loader ([type]): [data loader] täällä funktio lataa datan kouluttamiseen. määrittele tämä etukäteen\n",
      "        test_loader ([type]): [data loader] täällä funktio lataa datan testaamiseen. määrittele tämä etukäteen\n",
      "    Returns:\n",
      "        palauttaa tallennetun .pth tiedoston missä on opetettu malli.\n",
      "\n"
     ]
    }
   ],
   "source": [
    "help(neuroverkko)"
   ]
  },
  {
   "cell_type": "code",
   "execution_count": 7,
   "metadata": {},
   "outputs": [],
   "source": [
    "from neuroverkkomodel import *"
   ]
  },
  {
   "cell_type": "code",
   "execution_count": 8,
   "metadata": {},
   "outputs": [
    {
     "name": "stdout",
     "output_type": "stream",
     "text": [
      "Epoch 1/1.. Step 30.. Train loss: 6.039.. Test loss: 1.785.. Test accuracy: 0.665\n",
      "Epoch 1/1.. Step 60.. Train loss: 0.995.. Test loss: 1.158.. Test accuracy: 0.722\n",
      "Epoch 1/1.. Step 90.. Train loss: 0.478.. Test loss: 0.736.. Test accuracy: 0.839\n",
      "Epoch 1/1.. Step 120.. Train loss: 0.392.. Test loss: 0.396.. Test accuracy: 0.879\n",
      "Epoch 1/1.. Step 150.. Train loss: 0.308.. Test loss: 0.398.. Test accuracy: 0.884\n",
      "Epoch 1/1.. Step 180.. Train loss: 0.230.. Test loss: 0.332.. Test accuracy: 0.890\n",
      "Epoch 1/1.. Step 210.. Train loss: 0.243.. Test loss: 0.328.. Test accuracy: 0.881\n",
      "Epoch 1/1.. Step 240.. Train loss: 0.208.. Test loss: 0.333.. Test accuracy: 0.861\n",
      "Epoch 1/1.. Step 270.. Train loss: 0.206.. Test loss: 0.305.. Test accuracy: 0.875\n",
      "Epoch 1/1.. Step 300.. Train loss: 0.184.. Test loss: 0.268.. Test accuracy: 0.897\n",
      "Epoch 1/1.. Step 330.. Train loss: 0.175.. Test loss: 0.361.. Test accuracy: 0.875\n",
      "Epoch 1/1.. Step 360.. Train loss: 0.194.. Test loss: 0.311.. Test accuracy: 0.867\n",
      "Epoch 1/1.. Step 390.. Train loss: 0.152.. Test loss: 0.258.. Test accuracy: 0.910\n",
      "Epoch 1/1.. Step 420.. Train loss: 0.189.. Test loss: 0.325.. Test accuracy: 0.857\n",
      "Epoch 1/1.. Step 450.. Train loss: 0.155.. Test loss: 0.308.. Test accuracy: 0.873\n",
      "Epoch 1/1.. Step 480.. Train loss: 0.200.. Test loss: 0.465.. Test accuracy: 0.827\n",
      "Epoch 1/1.. Step 510.. Train loss: 0.164.. Test loss: 0.658.. Test accuracy: 0.722\n",
      "Epoch 1/1.. Step 540.. Train loss: 0.154.. Test loss: 0.679.. Test accuracy: 0.710\n",
      "Epoch 1/1.. Step 570.. Train loss: 0.175.. Test loss: 1.002.. Test accuracy: 0.644\n",
      "Epoch 1/1.. Step 600.. Train loss: 0.177.. Test loss: 0.442.. Test accuracy: 0.814\n",
      "Epoch 1/1.. Step 630.. Train loss: 0.162.. Test loss: 0.429.. Test accuracy: 0.812\n",
      "Epoch 1/1.. Step 660.. Train loss: 0.178.. Test loss: 0.350.. Test accuracy: 0.850\n",
      "Epoch 1/1.. Step 690.. Train loss: 0.175.. Test loss: 0.458.. Test accuracy: 0.802\n",
      "Epoch 1/1.. Step 720.. Train loss: 0.175.. Test loss: 0.330.. Test accuracy: 0.859\n",
      "Epoch 1/1.. Step 750.. Train loss: 0.168.. Test loss: 0.296.. Test accuracy: 0.894\n",
      "Epoch 1/1.. Step 780.. Train loss: 0.170.. Test loss: 0.329.. Test accuracy: 0.875\n",
      "Epoch 1/1.. Step 810.. Train loss: 0.185.. Test loss: 0.382.. Test accuracy: 0.842\n",
      "Epoch 1/1.. Step 840.. Train loss: 0.158.. Test loss: 0.338.. Test accuracy: 0.875\n",
      "Epoch 1/1.. Step 870.. Train loss: 0.164.. Test loss: 0.311.. Test accuracy: 0.876\n",
      "Epoch 1/1.. Step 900.. Train loss: 0.157.. Test loss: 0.338.. Test accuracy: 0.856\n",
      "Epoch 1/1.. Step 930.. Train loss: 0.153.. Test loss: 0.335.. Test accuracy: 0.859\n",
      "Epoch 1/1.. Step 960.. Train loss: 0.150.. Test loss: 0.347.. Test accuracy: 0.853\n",
      "Epoch 1/1.. Step 990.. Train loss: 0.164.. Test loss: 0.503.. Test accuracy: 0.762\n",
      "Epoch 1/1.. Step 1020.. Train loss: 0.156.. Test loss: 0.546.. Test accuracy: 0.744\n",
      "Epoch 1/1.. Step 1050.. Train loss: 0.168.. Test loss: 0.393.. Test accuracy: 0.852\n",
      "Epoch 1/1.. Step 1080.. Train loss: 0.177.. Test loss: 0.782.. Test accuracy: 0.755\n",
      "Epoch 1/1.. Step 1110.. Train loss: 0.173.. Test loss: 0.390.. Test accuracy: 0.829\n",
      "Epoch 1/1.. Step 1140.. Train loss: 0.174.. Test loss: 0.560.. Test accuracy: 0.820\n",
      "Epoch 1/1.. Step 1170.. Train loss: 0.172.. Test loss: 0.448.. Test accuracy: 0.817\n",
      "Epoch 1/1.. Step 1200.. Train loss: 0.135.. Test loss: 0.478.. Test accuracy: 0.836\n",
      "Epoch 1/1.. Step 1230.. Train loss: 0.183.. Test loss: 0.338.. Test accuracy: 0.859\n",
      "Epoch 1/1.. Step 1260.. Train loss: 0.174.. Test loss: 0.538.. Test accuracy: 0.807\n",
      "Epoch 1/1.. Step 1290.. Train loss: 0.243.. Test loss: 0.472.. Test accuracy: 0.829\n",
      "Epoch 1/1.. Step 1320.. Train loss: 0.161.. Test loss: 0.634.. Test accuracy: 0.750\n",
      "Epoch 1/1.. Step 1350.. Train loss: 0.157.. Test loss: 0.363.. Test accuracy: 0.840\n",
      "Epoch 1/1.. Step 1380.. Train loss: 0.149.. Test loss: 0.359.. Test accuracy: 0.848\n",
      "Epoch 1/1.. Step 1410.. Train loss: 0.152.. Test loss: 0.572.. Test accuracy: 0.783\n",
      "Epoch 1/1.. Step 1440.. Train loss: 0.143.. Test loss: 0.353.. Test accuracy: 0.842\n",
      "Epoch 1/1.. Step 1470.. Train loss: 0.134.. Test loss: 0.626.. Test accuracy: 0.773\n",
      "Epoch 1/1.. Step 1500.. Train loss: 0.133.. Test loss: 0.708.. Test accuracy: 0.713\n",
      "Epoch 1/1.. Step 1530.. Train loss: 0.196.. Test loss: 0.779.. Test accuracy: 0.679\n",
      "Epoch 1/1.. Step 1560.. Train loss: 0.173.. Test loss: 0.930.. Test accuracy: 0.768\n",
      "Epoch 1/1.. Step 1590.. Train loss: 0.178.. Test loss: 0.376.. Test accuracy: 0.834\n",
      "Epoch 1/1.. Step 1620.. Train loss: 0.164.. Test loss: 0.586.. Test accuracy: 0.807\n",
      "Epoch 1/1.. Step 1650.. Train loss: 0.156.. Test loss: 0.549.. Test accuracy: 0.805\n",
      "Epoch 1/1.. Step 1680.. Train loss: 0.147.. Test loss: 0.479.. Test accuracy: 0.805\n",
      "Epoch 1/1.. Step 1710.. Train loss: 0.172.. Test loss: 0.546.. Test accuracy: 0.773\n",
      "Epoch 1/1.. Step 1740.. Train loss: 0.152.. Test loss: 0.462.. Test accuracy: 0.811\n",
      "Epoch 1/1.. Step 1770.. Train loss: 0.141.. Test loss: 0.455.. Test accuracy: 0.828\n",
      "Epoch 1/1.. Step 1800.. Train loss: 0.140.. Test loss: 0.586.. Test accuracy: 0.738\n",
      "Epoch 1/1.. Step 1830.. Train loss: 0.155.. Test loss: 0.273.. Test accuracy: 0.886\n",
      "Epoch 1/1.. Step 1860.. Train loss: 0.170.. Test loss: 0.531.. Test accuracy: 0.783\n",
      "Epoch 1/1.. Step 1890.. Train loss: 0.171.. Test loss: 0.574.. Test accuracy: 0.773\n",
      "Epoch 1/1.. Step 1920.. Train loss: 0.129.. Test loss: 0.756.. Test accuracy: 0.755\n",
      "Epoch 1/1.. Step 1950.. Train loss: 0.156.. Test loss: 0.432.. Test accuracy: 0.812\n",
      "Epoch 1/1.. Step 1980.. Train loss: 0.134.. Test loss: 0.549.. Test accuracy: 0.810\n",
      "Epoch 1/1.. Step 2010.. Train loss: 0.172.. Test loss: 0.602.. Test accuracy: 0.738\n",
      "Epoch 1/1.. Step 2040.. Train loss: 0.136.. Test loss: 0.634.. Test accuracy: 0.772\n",
      "Epoch 1/1.. Step 2070.. Train loss: 0.157.. Test loss: 0.423.. Test accuracy: 0.823\n",
      "Epoch 1/1.. Step 2100.. Train loss: 0.137.. Test loss: 0.567.. Test accuracy: 0.766\n",
      "Epoch 1/1.. Step 2130.. Train loss: 0.153.. Test loss: 0.488.. Test accuracy: 0.814\n",
      "Epoch 1/1.. Step 2160.. Train loss: 0.207.. Test loss: 0.406.. Test accuracy: 0.826\n",
      "Epoch 1/1.. Step 2190.. Train loss: 0.151.. Test loss: 0.453.. Test accuracy: 0.815\n",
      "Epoch 1/1.. Step 2220.. Train loss: 0.163.. Test loss: 0.742.. Test accuracy: 0.731\n",
      "Epoch 1/1.. Step 2250.. Train loss: 0.142.. Test loss: 0.571.. Test accuracy: 0.758\n",
      "Epoch 1/1.. Step 2280.. Train loss: 0.173.. Test loss: 0.522.. Test accuracy: 0.789\n",
      "Epoch 1/1.. Step 2310.. Train loss: 0.140.. Test loss: 0.708.. Test accuracy: 0.733\n",
      "Epoch 1/1.. Step 2340.. Train loss: 0.131.. Test loss: 0.611.. Test accuracy: 0.745\n",
      "Epoch 1/1.. Step 2370.. Train loss: 0.129.. Test loss: 0.645.. Test accuracy: 0.788\n",
      "Epoch 1/1.. Step 2400.. Train loss: 0.144.. Test loss: 0.811.. Test accuracy: 0.753\n",
      "Epoch 1/1.. Step 2430.. Train loss: 0.118.. Test loss: 0.634.. Test accuracy: 0.783\n",
      "Epoch 1/1.. Step 2460.. Train loss: 0.129.. Test loss: 0.709.. Test accuracy: 0.743\n",
      "Epoch 1/1.. Step 2490.. Train loss: 0.162.. Test loss: 1.966.. Test accuracy: 0.579\n",
      "Epoch 1/1.. Step 2520.. Train loss: 0.166.. Test loss: 0.736.. Test accuracy: 0.746\n",
      "Epoch 1/1.. Step 2550.. Train loss: 0.142.. Test loss: 0.836.. Test accuracy: 0.773\n",
      "Epoch 1/1.. Step 2580.. Train loss: 0.214.. Test loss: 0.623.. Test accuracy: 0.766\n",
      "Epoch 1/1.. Step 2610.. Train loss: 0.145.. Test loss: 0.593.. Test accuracy: 0.776\n",
      "Epoch 1/1.. Step 2640.. Train loss: 0.138.. Test loss: 0.958.. Test accuracy: 0.689\n",
      "Epoch 1/1.. Step 2670.. Train loss: 0.141.. Test loss: 0.653.. Test accuracy: 0.799\n",
      "Epoch 1/1.. Step 2700.. Train loss: 0.188.. Test loss: 0.618.. Test accuracy: 0.741\n",
      "Epoch 1/1.. Step 2730.. Train loss: 0.160.. Test loss: 0.907.. Test accuracy: 0.708\n",
      "Epoch 1/1.. Step 2760.. Train loss: 0.145.. Test loss: 0.435.. Test accuracy: 0.808\n",
      "Epoch 1/1.. Step 2790.. Train loss: 0.137.. Test loss: 0.595.. Test accuracy: 0.776\n",
      "Epoch 1/1.. Step 2820.. Train loss: 0.133.. Test loss: 0.266.. Test accuracy: 0.898\n",
      "Epoch 1/1.. Step 2850.. Train loss: 0.152.. Test loss: 0.543.. Test accuracy: 0.780\n",
      "Epoch 1/1.. Step 2880.. Train loss: 0.171.. Test loss: 0.692.. Test accuracy: 0.749\n",
      "Epoch 1/1.. Step 2910.. Train loss: 0.181.. Test loss: 0.699.. Test accuracy: 0.798\n",
      "Epoch 1/1.. Step 2940.. Train loss: 0.208.. Test loss: 0.394.. Test accuracy: 0.844\n",
      "Epoch 1/1.. Step 2970.. Train loss: 0.162.. Test loss: 0.447.. Test accuracy: 0.816\n",
      "Epoch 1/1.. Step 3000.. Train loss: 0.164.. Test loss: 0.877.. Test accuracy: 0.745\n",
      "Epoch 1/1.. Step 3030.. Train loss: 0.141.. Test loss: 0.515.. Test accuracy: 0.793\n",
      "Epoch 1/1.. Step 3060.. Train loss: 0.139.. Test loss: 0.343.. Test accuracy: 0.862\n",
      "Epoch 1/1.. Step 3090.. Train loss: 0.158.. Test loss: 0.728.. Test accuracy: 0.730\n",
      "Epoch 1/1.. Step 3120.. Train loss: 0.137.. Test loss: 0.791.. Test accuracy: 0.737\n",
      "Epoch 1/1.. Step 3150.. Train loss: 0.161.. Test loss: 0.910.. Test accuracy: 0.739\n",
      "Epoch 1/1.. Step 3180.. Train loss: 0.169.. Test loss: 0.530.. Test accuracy: 0.779\n",
      "Epoch 1/1.. Step 3210.. Train loss: 0.137.. Test loss: 0.681.. Test accuracy: 0.774\n",
      "Epoch 1/1.. Step 3240.. Train loss: 0.120.. Test loss: 0.492.. Test accuracy: 0.795\n",
      "Epoch 1/1.. Step 3270.. Train loss: 0.146.. Test loss: 0.494.. Test accuracy: 0.816\n",
      "Epoch 1/1.. Step 3300.. Train loss: 0.135.. Test loss: 0.667.. Test accuracy: 0.758\n",
      "Epoch 1/1.. Step 3330.. Train loss: 0.141.. Test loss: 0.687.. Test accuracy: 0.723\n",
      "Epoch 1/1.. Step 3360.. Train loss: 0.129.. Test loss: 0.606.. Test accuracy: 0.756\n",
      "Epoch 1/1.. Step 3390.. Train loss: 0.127.. Test loss: 0.466.. Test accuracy: 0.814\n",
      "Epoch 1/1.. Step 3420.. Train loss: 0.143.. Test loss: 0.773.. Test accuracy: 0.751\n",
      "Epoch 1/1.. Step 3450.. Train loss: 0.131.. Test loss: 0.429.. Test accuracy: 0.837\n",
      "Epoch 1/1.. Step 3480.. Train loss: 0.121.. Test loss: 0.455.. Test accuracy: 0.826\n",
      "Epoch 1/1.. Step 3510.. Train loss: 0.121.. Test loss: 0.606.. Test accuracy: 0.763\n",
      "Epoch 1/1.. Step 3540.. Train loss: 0.143.. Test loss: 0.425.. Test accuracy: 0.846\n",
      "Epoch 1/1.. Step 3570.. Train loss: 0.135.. Test loss: 0.773.. Test accuracy: 0.775\n",
      "Epoch 1/1.. Step 3600.. Train loss: 0.136.. Test loss: 0.395.. Test accuracy: 0.833\n",
      "Epoch 1/1.. Step 3630.. Train loss: 0.135.. Test loss: 0.598.. Test accuracy: 0.790\n",
      "Epoch 1/1.. Step 3660.. Train loss: 0.135.. Test loss: 0.665.. Test accuracy: 0.772\n",
      "Epoch 1/1.. Step 3690.. Train loss: 0.179.. Test loss: 0.679.. Test accuracy: 0.798\n",
      "Epoch 1/1.. Step 3720.. Train loss: 0.153.. Test loss: 0.374.. Test accuracy: 0.850\n",
      "Epoch 1/1.. Step 3750.. Train loss: 0.133.. Test loss: 0.455.. Test accuracy: 0.820\n",
      "Epoch 1/1.. Step 3780.. Train loss: 0.190.. Test loss: 0.383.. Test accuracy: 0.855\n",
      "Epoch 1/1.. Step 3810.. Train loss: 0.192.. Test loss: 1.135.. Test accuracy: 0.731\n",
      "Epoch 1/1.. Step 3840.. Train loss: 0.161.. Test loss: 0.383.. Test accuracy: 0.854\n",
      "Epoch 1/1.. Step 3870.. Train loss: 0.160.. Test loss: 0.581.. Test accuracy: 0.822\n",
      "Epoch 1/1.. Step 3900.. Train loss: 0.142.. Test loss: 0.347.. Test accuracy: 0.861\n",
      "Epoch 1/1.. Step 3930.. Train loss: 0.147.. Test loss: 0.957.. Test accuracy: 0.773\n",
      "Epoch 1/1.. Step 3960.. Train loss: 0.129.. Test loss: 0.397.. Test accuracy: 0.839\n",
      "Epoch 1/1.. Step 3990.. Train loss: 0.177.. Test loss: 0.597.. Test accuracy: 0.773\n",
      "Epoch 1/1.. Step 4020.. Train loss: 0.144.. Test loss: 0.889.. Test accuracy: 0.750\n",
      "Epoch 1/1.. Step 4050.. Train loss: 0.142.. Test loss: 0.391.. Test accuracy: 0.866\n",
      "Epoch 1/1.. Step 4080.. Train loss: 0.133.. Test loss: 0.657.. Test accuracy: 0.748\n",
      "Epoch 1/1.. Step 4110.. Train loss: 0.194.. Test loss: 0.802.. Test accuracy: 0.705\n",
      "Epoch 1/1.. Step 4140.. Train loss: 0.125.. Test loss: 0.565.. Test accuracy: 0.782\n",
      "Epoch 1/1.. Step 4170.. Train loss: 0.128.. Test loss: 0.648.. Test accuracy: 0.768\n",
      "Epoch 1/1.. Step 4200.. Train loss: 0.170.. Test loss: 0.545.. Test accuracy: 0.821\n",
      "Epoch 1/1.. Step 4230.. Train loss: 0.157.. Test loss: 0.504.. Test accuracy: 0.816\n",
      "Epoch 1/1.. Step 4260.. Train loss: 0.125.. Test loss: 0.702.. Test accuracy: 0.793\n",
      "Epoch 1/1.. Step 4290.. Train loss: 0.118.. Test loss: 0.709.. Test accuracy: 0.768\n",
      "Epoch 1/1.. Step 4320.. Train loss: 0.153.. Test loss: 0.780.. Test accuracy: 0.772\n",
      "Epoch 1/1.. Step 4350.. Train loss: 0.152.. Test loss: 0.639.. Test accuracy: 0.773\n",
      "Epoch 1/1.. Step 4380.. Train loss: 0.210.. Test loss: 0.862.. Test accuracy: 0.752\n",
      "Epoch 1/1.. Step 4410.. Train loss: 0.135.. Test loss: 0.598.. Test accuracy: 0.807\n",
      "Epoch 1/1.. Step 4440.. Train loss: 0.172.. Test loss: 0.460.. Test accuracy: 0.815\n",
      "Epoch 1/1.. Step 4470.. Train loss: 0.128.. Test loss: 0.732.. Test accuracy: 0.758\n",
      "Epoch 1/1.. Step 4500.. Train loss: 0.125.. Test loss: 0.587.. Test accuracy: 0.790\n",
      "Epoch 1/1.. Step 4530.. Train loss: 0.147.. Test loss: 1.059.. Test accuracy: 0.694\n",
      "Epoch 1/1.. Step 4560.. Train loss: 0.131.. Test loss: 1.402.. Test accuracy: 0.569\n",
      "Epoch 1/1.. Step 4590.. Train loss: 0.134.. Test loss: 0.606.. Test accuracy: 0.770\n",
      "Epoch 1/1.. Step 4620.. Train loss: 0.136.. Test loss: 0.846.. Test accuracy: 0.732\n",
      "Epoch 1/1.. Step 4650.. Train loss: 0.180.. Test loss: 0.826.. Test accuracy: 0.765\n",
      "Epoch 1/1.. Step 4680.. Train loss: 0.172.. Test loss: 0.711.. Test accuracy: 0.784\n",
      "Epoch 1/1.. Step 4710.. Train loss: 0.161.. Test loss: 0.574.. Test accuracy: 0.795\n",
      "Epoch 1/1.. Step 4740.. Train loss: 0.117.. Test loss: 0.782.. Test accuracy: 0.753\n",
      "Epoch 1/1.. Step 4770.. Train loss: 0.135.. Test loss: 0.534.. Test accuracy: 0.809\n",
      "Epoch 1/1.. Step 4800.. Train loss: 0.132.. Test loss: 0.824.. Test accuracy: 0.723\n",
      "Epoch 1/1.. Step 4830.. Train loss: 0.139.. Test loss: 0.551.. Test accuracy: 0.789\n",
      "Epoch 1/1.. Step 4860.. Train loss: 0.167.. Test loss: 0.526.. Test accuracy: 0.802\n",
      "Epoch 1/1.. Step 4890.. Train loss: 0.099.. Test loss: 0.470.. Test accuracy: 0.816\n",
      "Epoch 1/1.. Step 4920.. Train loss: 0.140.. Test loss: 0.927.. Test accuracy: 0.742\n",
      "Epoch 1/1.. Step 4950.. Train loss: 0.148.. Test loss: 0.836.. Test accuracy: 0.748\n",
      "Epoch 1/1.. Step 4980.. Train loss: 0.202.. Test loss: 0.597.. Test accuracy: 0.780\n",
      "Epoch 1/1.. Step 5010.. Train loss: 0.158.. Test loss: 0.426.. Test accuracy: 0.833\n",
      "Epoch 1/1.. Step 5040.. Train loss: 0.131.. Test loss: 0.998.. Test accuracy: 0.706\n",
      "Epoch 1/1.. Step 5070.. Train loss: 0.142.. Test loss: 0.632.. Test accuracy: 0.792\n",
      "Epoch 1/1.. Step 5100.. Train loss: 0.139.. Test loss: 1.163.. Test accuracy: 0.735\n",
      "Epoch 1/1.. Step 5130.. Train loss: 0.151.. Test loss: 0.685.. Test accuracy: 0.783\n",
      "Epoch 1/1.. Step 5160.. Train loss: 0.175.. Test loss: 1.183.. Test accuracy: 0.741\n",
      "Epoch 1/1.. Step 5190.. Train loss: 0.157.. Test loss: 0.624.. Test accuracy: 0.788\n",
      "Epoch 1/1.. Step 5220.. Train loss: 0.127.. Test loss: 0.643.. Test accuracy: 0.773\n",
      "Epoch 1/1.. Step 5250.. Train loss: 0.129.. Test loss: 0.619.. Test accuracy: 0.781\n",
      "Epoch 1/1.. Step 5280.. Train loss: 0.128.. Test loss: 0.579.. Test accuracy: 0.775\n",
      "Epoch 1/1.. Step 5310.. Train loss: 0.152.. Test loss: 0.854.. Test accuracy: 0.752\n",
      "Epoch 1/1.. Step 5340.. Train loss: 0.146.. Test loss: 0.837.. Test accuracy: 0.758\n",
      "Epoch 1/1.. Step 5370.. Train loss: 0.117.. Test loss: 0.409.. Test accuracy: 0.849\n",
      "Epoch 1/1.. Step 5400.. Train loss: 0.119.. Test loss: 0.366.. Test accuracy: 0.868\n",
      "Epoch 1/1.. Step 5430.. Train loss: 0.170.. Test loss: 1.319.. Test accuracy: 0.620\n",
      "Epoch 1/1.. Step 5460.. Train loss: 0.140.. Test loss: 0.654.. Test accuracy: 0.785\n",
      "Epoch 1/1.. Step 5490.. Train loss: 0.128.. Test loss: 0.440.. Test accuracy: 0.824\n",
      "Epoch 1/1.. Step 5520.. Train loss: 0.142.. Test loss: 0.596.. Test accuracy: 0.787\n",
      "Epoch 1/1.. Step 5550.. Train loss: 0.143.. Test loss: 0.745.. Test accuracy: 0.767\n",
      "Epoch 1/1.. Step 5580.. Train loss: 0.157.. Test loss: 0.606.. Test accuracy: 0.787\n",
      "Epoch 1/1.. Step 5610.. Train loss: 0.119.. Test loss: 0.552.. Test accuracy: 0.789\n",
      "Epoch 1/1.. Step 5640.. Train loss: 0.125.. Test loss: 0.600.. Test accuracy: 0.783\n",
      "Epoch 1/1.. Step 5670.. Train loss: 0.148.. Test loss: 0.747.. Test accuracy: 0.691\n",
      "Epoch 1/1.. Step 5700.. Train loss: 0.135.. Test loss: 0.610.. Test accuracy: 0.770\n",
      "Epoch 1/1.. Step 5730.. Train loss: 0.131.. Test loss: 0.956.. Test accuracy: 0.738\n",
      "Epoch 1/1.. Step 5760.. Train loss: 0.133.. Test loss: 0.451.. Test accuracy: 0.803\n",
      "Epoch 1/1.. Step 5790.. Train loss: 0.112.. Test loss: 0.890.. Test accuracy: 0.682\n",
      "Epoch 1/1.. Step 5820.. Train loss: 0.119.. Test loss: 0.754.. Test accuracy: 0.742\n",
      "Epoch 1/1.. Step 5850.. Train loss: 0.123.. Test loss: 0.449.. Test accuracy: 0.814\n",
      "Epoch 1/1.. Step 5880.. Train loss: 0.125.. Test loss: 0.633.. Test accuracy: 0.755\n",
      "Epoch 1/1.. Step 5910.. Train loss: 0.128.. Test loss: 0.716.. Test accuracy: 0.737\n",
      "Epoch 1/1.. Step 5940.. Train loss: 0.122.. Test loss: 0.667.. Test accuracy: 0.768\n",
      "Epoch 1/1.. Step 5970.. Train loss: 0.127.. Test loss: 0.537.. Test accuracy: 0.779\n",
      "Epoch 1/1.. Step 6000.. Train loss: 0.108.. Test loss: 0.807.. Test accuracy: 0.718\n"
     ]
    },
    {
     "data": {
      "image/png": "[encoded data removed]",
      "text/plain": [
       "<Figure size 432x288 with 1 Axes>"
      ]
     },
     "metadata": {
      "needs_background": "light"
     },
     "output_type": "display_data"
    },
    {
     "name": "stdin",
     "output_type": "stream",
     "text": [
      "enter the filename.pth uusidata.pth\n"
     ]
    },
    {
     "name": "stdout",
     "output_type": "stream",
     "text": [
      "Done\n"
     ]
    }
   ],
   "source": [
    "neuroverkko(model,1,optimizer,criterion,train_loader,test_loader)"
   ]
  },
  {
   "cell_type": "code",
   "execution_count": null,
   "metadata": {},
   "outputs": [],
   "source": []
  }
 ],
 "metadata": {
  "kernelspec": {
   "display_name": "Python 3",
   "language": "python",
   "name": "python3"
  },
  "language_info": {
   "codemirror_mode": {
    "name": "ipython",
    "version": 3
   },
   "file_extension": ".py",
   "mimetype": "text/x-python",
   "name": "python",
   "nbconvert_exporter": "python",
   "pygments_lexer": "ipython3",
   "version": "3.7.9"
  }
 },
 "nbformat": 4,
 "nbformat_minor": 4
}
