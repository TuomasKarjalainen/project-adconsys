{
 "cells": [
  {
   "cell_type": "markdown",
   "metadata": {},
   "source": [
    "# Testataan datacleaner-moduulin toiminta"
   ]
  },
  {
   "cell_type": "code",
   "execution_count": 1,
   "metadata": {},
   "outputs": [],
   "source": [
    "import sys\n",
    "import pandas as pd"
   ]
  },
  {
   "cell_type": "code",
   "execution_count": 2,
   "metadata": {},
   "outputs": [],
   "source": [
    "# Tämä täytyy olla, jotta moduuleita voidaan ajaa\n",
    "sys.path.append(\"./modules/\")"
   ]
  },
  {
   "cell_type": "code",
   "execution_count": 3,
   "metadata": {},
   "outputs": [],
   "source": [
    "# Import module\n",
    "from datacleaner import dataCleaner"
   ]
  },
  {
   "cell_type": "code",
   "execution_count": 4,
   "metadata": {},
   "outputs": [
    {
     "name": "stdout",
     "output_type": "stream",
     "text": [
      "Help on function dataCleaner in module datacleaner:\n",
      "\n",
      "dataCleaner(df, newColumns=True)\n",
      "    dataCleaner -function\n",
      "    \n",
      "    Cleans timestamp, adds new columns (if newColumns=True) and transform status-values into numeric\n",
      "    \n",
      "    Parameters\n",
      "    ----------\n",
      "    \n",
      "    df :\n",
      "        - Type: Pandas DataFrame\n",
      "        \n",
      "    \n",
      "    newColumns :\n",
      "        - Type: boolean\n",
      "        - default: True\n",
      "        - If True, adds new columns day, month, year and date\n",
      "    \n",
      "    \n",
      "    Returns\n",
      "    -------\n",
      "    \n",
      "    Pandas dataframe that has timestamp cleaned, numeric status-values (and new columns added)\n",
      "\n"
     ]
    }
   ],
   "source": [
    "help(dataCleaner)"
   ]
  },
  {
   "cell_type": "markdown",
   "metadata": {},
   "source": [
    "## Dataframe ennen datacleaneria"
   ]
  },
  {
   "cell_type": "code",
   "execution_count": 5,
   "metadata": {},
   "outputs": [],
   "source": [
    "# Määritellään dataframe csv-tiedostoista\n",
    "df = pd.read_csv('tuloilma_laskettuAs.csv', header=0)"
   ]
  },
  {
   "cell_type": "code",
   "execution_count": 6,
   "metadata": {},
   "outputs": [
    {
     "data": {
      "text/html": [
       "<div>\n",
       "<style scoped>\n",
       "    .dataframe tbody tr th:only-of-type {\n",
       "        vertical-align: middle;\n",
       "    }\n",
       "\n",
       "    .dataframe tbody tr th {\n",
       "        vertical-align: top;\n",
       "    }\n",
       "\n",
       "    .dataframe thead th {\n",
       "        text-align: right;\n",
       "    }\n",
       "</style>\n",
       "<table border=\"1\" class=\"dataframe\">\n",
       "  <thead>\n",
       "    <tr style=\"text-align: right;\">\n",
       "      <th></th>\n",
       "      <th>timestamp</th>\n",
       "      <th>trendFlags</th>\n",
       "      <th>status</th>\n",
       "      <th>value</th>\n",
       "    </tr>\n",
       "  </thead>\n",
       "  <tbody>\n",
       "    <tr>\n",
       "      <th>0</th>\n",
       "      <td>03-Apr-19 8:51 AM EEST</td>\n",
       "      <td></td>\n",
       "      <td>{ok}</td>\n",
       "      <td>20.29</td>\n",
       "    </tr>\n",
       "    <tr>\n",
       "      <th>1</th>\n",
       "      <td>03-Apr-19 10:33 AM EEST</td>\n",
       "      <td></td>\n",
       "      <td>{ok}</td>\n",
       "      <td>19.66</td>\n",
       "    </tr>\n",
       "    <tr>\n",
       "      <th>2</th>\n",
       "      <td>03-Apr-19 10:38 AM EEST</td>\n",
       "      <td></td>\n",
       "      <td>{ok}</td>\n",
       "      <td>19.03</td>\n",
       "    </tr>\n",
       "    <tr>\n",
       "      <th>3</th>\n",
       "      <td>03-Apr-19 10:57 AM EEST</td>\n",
       "      <td></td>\n",
       "      <td>{ok}</td>\n",
       "      <td>19.54</td>\n",
       "    </tr>\n",
       "    <tr>\n",
       "      <th>4</th>\n",
       "      <td>03-Apr-19 12:10 PM EEST</td>\n",
       "      <td></td>\n",
       "      <td>{ok}</td>\n",
       "      <td>20.08</td>\n",
       "    </tr>\n",
       "  </tbody>\n",
       "</table>\n",
       "</div>"
      ],
      "text/plain": [
       "                 timestamp trendFlags status  value\n",
       "0   03-Apr-19 8:51 AM EEST              {ok}  20.29\n",
       "1  03-Apr-19 10:33 AM EEST              {ok}  19.66\n",
       "2  03-Apr-19 10:38 AM EEST              {ok}  19.03\n",
       "3  03-Apr-19 10:57 AM EEST              {ok}  19.54\n",
       "4  03-Apr-19 12:10 PM EEST              {ok}  20.08"
      ]
     },
     "execution_count": 6,
     "metadata": {},
     "output_type": "execute_result"
    }
   ],
   "source": [
    "df.head(5)"
   ]
  },
  {
   "cell_type": "markdown",
   "metadata": {},
   "source": [
    "## Dataframe datacleanerin jälkeen"
   ]
  },
  {
   "cell_type": "code",
   "execution_count": 7,
   "metadata": {},
   "outputs": [
    {
     "name": "stdout",
     "output_type": "stream",
     "text": [
      "Processing dataframe\n"
     ]
    },
    {
     "name": "stderr",
     "output_type": "stream",
     "text": [
      "/opt/conda/lib/python3.7/site-packages/dateutil/parser/_parser.py:1218: UnknownTimezoneWarning: tzname EEST identified but not understood.  Pass `tzinfos` argument in order to correctly return a timezone-aware datetime.  In a future version, this will raise an exception.\n",
      "  category=UnknownTimezoneWarning)\n",
      "/opt/conda/lib/python3.7/site-packages/dateutil/parser/_parser.py:1218: UnknownTimezoneWarning: tzname EET identified but not understood.  Pass `tzinfos` argument in order to correctly return a timezone-aware datetime.  In a future version, this will raise an exception.\n",
      "  category=UnknownTimezoneWarning)\n"
     ]
    },
    {
     "name": "stdout",
     "output_type": "stream",
     "text": [
      "Creating new columns\n",
      "done in 0.73 seconds\n"
     ]
    },
    {
     "data": {
      "text/html": [
       "<div>\n",
       "<style scoped>\n",
       "    .dataframe tbody tr th:only-of-type {\n",
       "        vertical-align: middle;\n",
       "    }\n",
       "\n",
       "    .dataframe tbody tr th {\n",
       "        vertical-align: top;\n",
       "    }\n",
       "\n",
       "    .dataframe thead th {\n",
       "        text-align: right;\n",
       "    }\n",
       "</style>\n",
       "<table border=\"1\" class=\"dataframe\">\n",
       "  <thead>\n",
       "    <tr style=\"text-align: right;\">\n",
       "      <th></th>\n",
       "      <th>timestamp</th>\n",
       "      <th>trendFlags</th>\n",
       "      <th>status</th>\n",
       "      <th>value</th>\n",
       "      <th>day</th>\n",
       "      <th>month</th>\n",
       "      <th>year</th>\n",
       "      <th>date</th>\n",
       "    </tr>\n",
       "  </thead>\n",
       "  <tbody>\n",
       "    <tr>\n",
       "      <th>0</th>\n",
       "      <td>2019-04-03 08:51:00</td>\n",
       "      <td></td>\n",
       "      <td>0</td>\n",
       "      <td>20.29</td>\n",
       "      <td>3</td>\n",
       "      <td>4</td>\n",
       "      <td>2019</td>\n",
       "      <td>2019-04-03</td>\n",
       "    </tr>\n",
       "    <tr>\n",
       "      <th>1</th>\n",
       "      <td>2019-04-03 10:33:00</td>\n",
       "      <td></td>\n",
       "      <td>0</td>\n",
       "      <td>19.66</td>\n",
       "      <td>3</td>\n",
       "      <td>4</td>\n",
       "      <td>2019</td>\n",
       "      <td>2019-04-03</td>\n",
       "    </tr>\n",
       "    <tr>\n",
       "      <th>2</th>\n",
       "      <td>2019-04-03 10:38:00</td>\n",
       "      <td></td>\n",
       "      <td>0</td>\n",
       "      <td>19.03</td>\n",
       "      <td>3</td>\n",
       "      <td>4</td>\n",
       "      <td>2019</td>\n",
       "      <td>2019-04-03</td>\n",
       "    </tr>\n",
       "    <tr>\n",
       "      <th>3</th>\n",
       "      <td>2019-04-03 10:57:00</td>\n",
       "      <td></td>\n",
       "      <td>0</td>\n",
       "      <td>19.54</td>\n",
       "      <td>3</td>\n",
       "      <td>4</td>\n",
       "      <td>2019</td>\n",
       "      <td>2019-04-03</td>\n",
       "    </tr>\n",
       "    <tr>\n",
       "      <th>4</th>\n",
       "      <td>2019-04-03 12:10:00</td>\n",
       "      <td></td>\n",
       "      <td>0</td>\n",
       "      <td>20.08</td>\n",
       "      <td>3</td>\n",
       "      <td>4</td>\n",
       "      <td>2019</td>\n",
       "      <td>2019-04-03</td>\n",
       "    </tr>\n",
       "    <tr>\n",
       "      <th>...</th>\n",
       "      <td>...</td>\n",
       "      <td>...</td>\n",
       "      <td>...</td>\n",
       "      <td>...</td>\n",
       "      <td>...</td>\n",
       "      <td>...</td>\n",
       "      <td>...</td>\n",
       "      <td>...</td>\n",
       "    </tr>\n",
       "    <tr>\n",
       "      <th>5927</th>\n",
       "      <td>2021-02-15 06:05:00</td>\n",
       "      <td></td>\n",
       "      <td>0</td>\n",
       "      <td>20.83</td>\n",
       "      <td>15</td>\n",
       "      <td>2</td>\n",
       "      <td>2021</td>\n",
       "      <td>2021-02-15</td>\n",
       "    </tr>\n",
       "    <tr>\n",
       "      <th>5928</th>\n",
       "      <td>2021-02-15 07:37:00</td>\n",
       "      <td></td>\n",
       "      <td>0</td>\n",
       "      <td>20.24</td>\n",
       "      <td>15</td>\n",
       "      <td>2</td>\n",
       "      <td>2021</td>\n",
       "      <td>2021-02-15</td>\n",
       "    </tr>\n",
       "    <tr>\n",
       "      <th>5929</th>\n",
       "      <td>2021-02-15 09:14:00</td>\n",
       "      <td></td>\n",
       "      <td>0</td>\n",
       "      <td>20.97</td>\n",
       "      <td>15</td>\n",
       "      <td>2</td>\n",
       "      <td>2021</td>\n",
       "      <td>2021-02-15</td>\n",
       "    </tr>\n",
       "    <tr>\n",
       "      <th>5930</th>\n",
       "      <td>2021-02-15 09:22:00</td>\n",
       "      <td></td>\n",
       "      <td>0</td>\n",
       "      <td>20.41</td>\n",
       "      <td>15</td>\n",
       "      <td>2</td>\n",
       "      <td>2021</td>\n",
       "      <td>2021-02-15</td>\n",
       "    </tr>\n",
       "    <tr>\n",
       "      <th>5931</th>\n",
       "      <td>2021-02-15 09:38:00</td>\n",
       "      <td></td>\n",
       "      <td>0</td>\n",
       "      <td>19.85</td>\n",
       "      <td>15</td>\n",
       "      <td>2</td>\n",
       "      <td>2021</td>\n",
       "      <td>2021-02-15</td>\n",
       "    </tr>\n",
       "  </tbody>\n",
       "</table>\n",
       "<p>5932 rows × 8 columns</p>\n",
       "</div>"
      ],
      "text/plain": [
       "               timestamp trendFlags  status  value  day  month  year  \\\n",
       "0    2019-04-03 08:51:00                  0  20.29    3      4  2019   \n",
       "1    2019-04-03 10:33:00                  0  19.66    3      4  2019   \n",
       "2    2019-04-03 10:38:00                  0  19.03    3      4  2019   \n",
       "3    2019-04-03 10:57:00                  0  19.54    3      4  2019   \n",
       "4    2019-04-03 12:10:00                  0  20.08    3      4  2019   \n",
       "...                  ...        ...     ...    ...  ...    ...   ...   \n",
       "5927 2021-02-15 06:05:00                  0  20.83   15      2  2021   \n",
       "5928 2021-02-15 07:37:00                  0  20.24   15      2  2021   \n",
       "5929 2021-02-15 09:14:00                  0  20.97   15      2  2021   \n",
       "5930 2021-02-15 09:22:00                  0  20.41   15      2  2021   \n",
       "5931 2021-02-15 09:38:00                  0  19.85   15      2  2021   \n",
       "\n",
       "           date  \n",
       "0    2019-04-03  \n",
       "1    2019-04-03  \n",
       "2    2019-04-03  \n",
       "3    2019-04-03  \n",
       "4    2019-04-03  \n",
       "...         ...  \n",
       "5927 2021-02-15  \n",
       "5928 2021-02-15  \n",
       "5929 2021-02-15  \n",
       "5930 2021-02-15  \n",
       "5931 2021-02-15  \n",
       "\n",
       "[5932 rows x 8 columns]"
      ]
     },
     "execution_count": 7,
     "metadata": {},
     "output_type": "execute_result"
    }
   ],
   "source": [
    "dataCleaner(df, newColumns=True)"
   ]
  },
  {
   "cell_type": "code",
   "execution_count": null,
   "metadata": {},
   "outputs": [],
   "source": []
  }
 ],
 "metadata": {
  "kernelspec": {
   "display_name": "Python 3",
   "language": "python",
   "name": "python3"
  },
  "language_info": {
   "codemirror_mode": {
    "name": "ipython",
    "version": 3
   },
   "file_extension": ".py",
   "mimetype": "text/x-python",
   "name": "python",
   "nbconvert_exporter": "python",
   "pygments_lexer": "ipython3",
   "version": "3.7.9"
  }
 },
 "nbformat": 4,
 "nbformat_minor": 4
}
