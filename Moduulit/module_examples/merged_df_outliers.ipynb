{
 "cells": [
  {
   "cell_type": "markdown",
   "metadata": {},
   "source": [
    "# remove_outliers.py -moduulin testaus yhdistetylle dataframelle"
   ]
  },
  {
   "cell_type": "code",
   "execution_count": 1,
   "metadata": {},
   "outputs": [],
   "source": [
    "import sys\n",
    "# Tämä täytyy olla, jotta moduuleita voidaan ajaa\n",
    "# HUOM. Tarkista hakemistorakenne\n",
    "sys.path.append(\"/home/jovyan/work/TeamAdconsys/Tuomas/modules/\")\n",
    "\n",
    "# Tämä poistaa punaiset ilmoitukset ajettaessa esim. dataCleaner -funktiota\n",
    "import warnings\n",
    "warnings.filterwarnings('ignore')"
   ]
  },
  {
   "cell_type": "code",
   "execution_count": 2,
   "metadata": {},
   "outputs": [],
   "source": [
    "import pandas as pd\n",
    "import matplotlib\n",
    "import matplotlib.pyplot as plt\n",
    "import numpy as np\n",
    "\n",
    "# Siivoukseen tarvittavat funktiot\n",
    "from datacleaner import dataCleaner\n",
    "from checker import check_difference\n",
    "# HUOM. Nimi muutettu check_status => checkstatus\n",
    "from check_status import checkstatus\n",
    "from rm_outliers import remove_outliers\n",
    "from remove_outliers import removeoutliers"
   ]
  },
  {
   "cell_type": "code",
   "execution_count": 3,
   "metadata": {},
   "outputs": [
    {
     "data": {
      "text/html": [
       "<div>\n",
       "<style scoped>\n",
       "    .dataframe tbody tr th:only-of-type {\n",
       "        vertical-align: middle;\n",
       "    }\n",
       "\n",
       "    .dataframe tbody tr th {\n",
       "        vertical-align: top;\n",
       "    }\n",
       "\n",
       "    .dataframe thead th {\n",
       "        text-align: right;\n",
       "    }\n",
       "</style>\n",
       "<table border=\"1\" class=\"dataframe\">\n",
       "  <thead>\n",
       "    <tr style=\"text-align: right;\">\n",
       "      <th></th>\n",
       "      <th>timestamp</th>\n",
       "      <th>trendFlags_1LaskAs</th>\n",
       "      <th>status_1LaskAs</th>\n",
       "      <th>value_1LaskAs</th>\n",
       "      <th>value_difference_1LaskAs</th>\n",
       "      <th>trendFlags_MenovesiLaskAs</th>\n",
       "      <th>status_MenovesiLaskAs</th>\n",
       "      <th>value_MenovesiLaskAs</th>\n",
       "      <th>value_difference_MenovesiLaskAs</th>\n",
       "      <th>trendFlags_MenoM</th>\n",
       "      <th>...</th>\n",
       "      <th>value_TuloilmaLaskettuAs</th>\n",
       "      <th>value_difference_TuloilmaLaskettuAs</th>\n",
       "      <th>trendFlags_PoistoM</th>\n",
       "      <th>status_PoistoM</th>\n",
       "      <th>value_PoistoM</th>\n",
       "      <th>value_difference_PoistoM</th>\n",
       "      <th>trendFlags_PatterinPaluuvesiM</th>\n",
       "      <th>status_PatterinPaluuvesiM</th>\n",
       "      <th>value_PatterinPaluuvesiM</th>\n",
       "      <th>value_difference_PatterinPaluuvesiM</th>\n",
       "    </tr>\n",
       "  </thead>\n",
       "  <tbody>\n",
       "    <tr>\n",
       "      <th>0</th>\n",
       "      <td>2020-05-18 20:30:00</td>\n",
       "      <td>{ }</td>\n",
       "      <td>{ok}</td>\n",
       "      <td>70.0</td>\n",
       "      <td>-70.0</td>\n",
       "      <td>{ }</td>\n",
       "      <td>{ok}</td>\n",
       "      <td>28.65</td>\n",
       "      <td>0.53</td>\n",
       "      <td>{ }</td>\n",
       "      <td>...</td>\n",
       "      <td>20.64</td>\n",
       "      <td>-0.52</td>\n",
       "      <td>{ }</td>\n",
       "      <td>{ok}</td>\n",
       "      <td>21.65</td>\n",
       "      <td>0.53</td>\n",
       "      <td>{ }</td>\n",
       "      <td>{ok}</td>\n",
       "      <td>22.22</td>\n",
       "      <td>-0.54</td>\n",
       "    </tr>\n",
       "    <tr>\n",
       "      <th>1</th>\n",
       "      <td>2020-05-18 20:30:00</td>\n",
       "      <td>{ }</td>\n",
       "      <td>{ok}</td>\n",
       "      <td>70.0</td>\n",
       "      <td>-70.0</td>\n",
       "      <td>{ }</td>\n",
       "      <td>{ok}</td>\n",
       "      <td>28.65</td>\n",
       "      <td>0.53</td>\n",
       "      <td>{ }</td>\n",
       "      <td>...</td>\n",
       "      <td>20.64</td>\n",
       "      <td>-0.52</td>\n",
       "      <td>{ }</td>\n",
       "      <td>{ok}</td>\n",
       "      <td>21.65</td>\n",
       "      <td>0.53</td>\n",
       "      <td>{ }</td>\n",
       "      <td>{ok}</td>\n",
       "      <td>22.22</td>\n",
       "      <td>-0.54</td>\n",
       "    </tr>\n",
       "    <tr>\n",
       "      <th>2</th>\n",
       "      <td>2020-05-18 20:31:00</td>\n",
       "      <td>{ }</td>\n",
       "      <td>{ok}</td>\n",
       "      <td>70.0</td>\n",
       "      <td>-70.0</td>\n",
       "      <td>{ }</td>\n",
       "      <td>{ok}</td>\n",
       "      <td>28.65</td>\n",
       "      <td>0.53</td>\n",
       "      <td>{ }</td>\n",
       "      <td>...</td>\n",
       "      <td>20.64</td>\n",
       "      <td>-0.52</td>\n",
       "      <td>{ }</td>\n",
       "      <td>{ok}</td>\n",
       "      <td>21.65</td>\n",
       "      <td>0.53</td>\n",
       "      <td>{ }</td>\n",
       "      <td>{ok}</td>\n",
       "      <td>22.22</td>\n",
       "      <td>-0.54</td>\n",
       "    </tr>\n",
       "  </tbody>\n",
       "</table>\n",
       "<p>3 rows × 41 columns</p>\n",
       "</div>"
      ],
      "text/plain": [
       "             timestamp trendFlags_1LaskAs status_1LaskAs  value_1LaskAs  \\\n",
       "0  2020-05-18 20:30:00                { }           {ok}           70.0   \n",
       "1  2020-05-18 20:30:00                { }           {ok}           70.0   \n",
       "2  2020-05-18 20:31:00                { }           {ok}           70.0   \n",
       "\n",
       "   value_difference_1LaskAs trendFlags_MenovesiLaskAs status_MenovesiLaskAs  \\\n",
       "0                     -70.0                       { }                  {ok}   \n",
       "1                     -70.0                       { }                  {ok}   \n",
       "2                     -70.0                       { }                  {ok}   \n",
       "\n",
       "   value_MenovesiLaskAs  value_difference_MenovesiLaskAs trendFlags_MenoM  \\\n",
       "0                 28.65                             0.53              { }   \n",
       "1                 28.65                             0.53              { }   \n",
       "2                 28.65                             0.53              { }   \n",
       "\n",
       "   ... value_TuloilmaLaskettuAs  value_difference_TuloilmaLaskettuAs  \\\n",
       "0  ...                    20.64                                -0.52   \n",
       "1  ...                    20.64                                -0.52   \n",
       "2  ...                    20.64                                -0.52   \n",
       "\n",
       "   trendFlags_PoistoM status_PoistoM value_PoistoM  value_difference_PoistoM  \\\n",
       "0                 { }           {ok}         21.65                      0.53   \n",
       "1                 { }           {ok}         21.65                      0.53   \n",
       "2                 { }           {ok}         21.65                      0.53   \n",
       "\n",
       "   trendFlags_PatterinPaluuvesiM status_PatterinPaluuvesiM  \\\n",
       "0                            { }                      {ok}   \n",
       "1                            { }                      {ok}   \n",
       "2                            { }                      {ok}   \n",
       "\n",
       "  value_PatterinPaluuvesiM  value_difference_PatterinPaluuvesiM  \n",
       "0                    22.22                                -0.54  \n",
       "1                    22.22                                -0.54  \n",
       "2                    22.22                                -0.54  \n",
       "\n",
       "[3 rows x 41 columns]"
      ]
     },
     "execution_count": 3,
     "metadata": {},
     "output_type": "execute_result"
    }
   ],
   "source": [
    "# Yhdistetty dataframe\n",
    "# HUOM. Tarkista hakemistorakenne\n",
    "df = pd.read_csv('/home/jovyan/work/TeamAdconsys/Tuomas/csv/yhdistetty_df.csv', header=0)\n",
    "df.head(3)"
   ]
  },
  {
   "cell_type": "code",
   "execution_count": 4,
   "metadata": {},
   "outputs": [
    {
     "name": "stdout",
     "output_type": "stream",
     "text": [
      "------------------------------------------------\n",
      "------------- Removing outliers ----------------\n",
      "------------------------------------------------\n",
      "\n",
      "Limit value for temperatures is set: 2.5\n",
      "Limit value for percentages is set: 5.5\n",
      "\n",
      "\n",
      "Temperature columns...\n",
      "Removing rows from  value_difference_MenovesiLaskAs\n",
      "Removing rows from  value_difference_MenoM\n",
      "Removing rows from  value_difference_UlkoLampotila\n",
      "Removing rows from  value_difference_TuloM\n",
      "Removing rows from  value_difference_TuloilmaLaskettuAs\n",
      "Removing rows from  value_difference_PatterinPaluuvesiM\n",
      "Removed values: 221241\n",
      "\n",
      "Percentage columns...\n",
      "Removing rows from  value_difference_1LaskAs\n",
      "Removing rows from  value_difference_LammitysS\n",
      "Removed values: 412883\n",
      "\n",
      "Removed values in total: 634124\n",
      "Dataframe's shape before: 934289\n",
      "Dataframe's shape now: 300165\n",
      "\n",
      "Done in 2.5 seconds.\n"
     ]
    }
   ],
   "source": [
    "# Testataan remove_outliers -moduulin toiminta\n",
    "new_df = removeoutliers(df, 2.5, 5.5)"
   ]
  },
  {
   "cell_type": "code",
   "execution_count": 5,
   "metadata": {},
   "outputs": [
    {
     "data": {
      "text/plain": [
       "0.7100000000000009"
      ]
     },
     "execution_count": 5,
     "metadata": {},
     "output_type": "execute_result"
    }
   ],
   "source": [
    "new_df['value_difference_MenovesiLaskAs'].max()"
   ]
  },
  {
   "cell_type": "code",
   "execution_count": 6,
   "metadata": {},
   "outputs": [
    {
     "data": {
      "text/plain": [
       "47.19"
      ]
     },
     "execution_count": 6,
     "metadata": {},
     "output_type": "execute_result"
    }
   ],
   "source": [
    "df['value_difference_MenoM'].max()"
   ]
  },
  {
   "cell_type": "code",
   "execution_count": 7,
   "metadata": {},
   "outputs": [
    {
     "data": {
      "text/plain": [
       "1.4999999999999964"
      ]
     },
     "execution_count": 7,
     "metadata": {},
     "output_type": "execute_result"
    }
   ],
   "source": [
    "new_df['value_difference_MenoM'].max()"
   ]
  },
  {
   "cell_type": "code",
   "execution_count": 8,
   "metadata": {},
   "outputs": [
    {
     "data": {
      "text/plain": [
       "100.0"
      ]
     },
     "execution_count": 8,
     "metadata": {},
     "output_type": "execute_result"
    }
   ],
   "source": [
    "df['value_difference_LammitysS'].max()"
   ]
  },
  {
   "cell_type": "code",
   "execution_count": 9,
   "metadata": {},
   "outputs": [
    {
     "data": {
      "text/plain": [
       "1.490000000000002"
      ]
     },
     "execution_count": 9,
     "metadata": {},
     "output_type": "execute_result"
    }
   ],
   "source": [
    "new_df['value_difference_LammitysS'].max()"
   ]
  },
  {
   "cell_type": "code",
   "execution_count": null,
   "metadata": {},
   "outputs": [],
   "source": []
  }
 ],
 "metadata": {
  "kernelspec": {
   "display_name": "Python 3",
   "language": "python",
   "name": "python3"
  },
  "language_info": {
   "codemirror_mode": {
    "name": "ipython",
    "version": 3
   },
   "file_extension": ".py",
   "mimetype": "text/x-python",
   "name": "python",
   "nbconvert_exporter": "python",
   "pygments_lexer": "ipython3",
   "version": "3.7.9"
  }
 },
 "nbformat": 4,
 "nbformat_minor": 4
}
