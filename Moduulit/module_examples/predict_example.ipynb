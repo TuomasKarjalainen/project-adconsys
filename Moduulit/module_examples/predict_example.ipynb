{
 "cells": [
  {
   "cell_type": "code",
   "execution_count": 1,
   "metadata": {},
   "outputs": [],
   "source": [
    "%matplotlib inline\n",
    "%config InlineBackend.figure_format = 'retina'\n",
    "\n",
    "import pandas as pd\n",
    "import numpy as np\n",
    "import torch\n",
    "\n",
    "import matplotlib.pyplot as plt\n",
    "\n",
    "import warnings\n",
    "warnings.filterwarnings('ignore')\n",
    "\n",
    "import sys\n",
    "sys.path.append(\"/home/jovyan/work/TeamAdconsys/Tuomas/modules/\")\n",
    "from rounding import rounding\n",
    "from dataloaders import dataloaders"
   ]
  },
  {
   "cell_type": "code",
   "execution_count": 2,
   "metadata": {},
   "outputs": [],
   "source": [
    "from predict import predict"
   ]
  },
  {
   "cell_type": "code",
   "execution_count": 3,
   "metadata": {},
   "outputs": [
    {
     "name": "stdout",
     "output_type": "stream",
     "text": [
      "Tensor:\n",
      "tensor([1.0000, 0.5318, 0.2102, 0.1856, 0.4878, 0.2026, 0.5387, 0.2718],\n",
      "       dtype=torch.float64)\n",
      "\n",
      "path: /home/jovyan/work/TeamAdconsys/Tuomas/Sprint 6/multimargin.pth\n",
      "\n",
      "Model:\n",
      "Sequential(\n",
      "  (0): Linear(in_features=8, out_features=512, bias=True)\n",
      "  (1): ReLU()\n",
      "  (2): Linear(in_features=512, out_features=256, bias=True)\n",
      "  (3): ReLU()\n",
      "  (4): Linear(in_features=256, out_features=128, bias=True)\n",
      "  (5): ReLU()\n",
      "  (6): Linear(in_features=128, out_features=87, bias=True)\n",
      "  (7): LogSoftmax()\n",
      ")\n",
      "\n",
      "Prediction to MenovesiLaskAs: 52°C\n"
     ]
    }
   ],
   "source": [
    "predict('/home/jovyan/work/TeamAdconsys/Tuomas/Sprint 6/','multimargin.pth')"
   ]
  },
  {
   "cell_type": "code",
   "execution_count": null,
   "metadata": {},
   "outputs": [],
   "source": []
  }
 ],
 "metadata": {
  "kernelspec": {
   "display_name": "Python 3",
   "language": "python",
   "name": "python3"
  },
  "language_info": {
   "codemirror_mode": {
    "name": "ipython",
    "version": 3
   },
   "file_extension": ".py",
   "mimetype": "text/x-python",
   "name": "python",
   "nbconvert_exporter": "python",
   "pygments_lexer": "ipython3",
   "version": "3.7.9"
  }
 },
 "nbformat": 4,
 "nbformat_minor": 4
}
