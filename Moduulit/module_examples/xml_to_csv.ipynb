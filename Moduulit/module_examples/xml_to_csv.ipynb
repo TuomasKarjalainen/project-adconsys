{
 "cells": [
  {
   "cell_type": "code",
   "execution_count": 1,
   "metadata": {},
   "outputs": [],
   "source": [
    "from xml.etree.ElementTree import parse\n",
    "import pandas as pd\n",
    "import glob\n",
    "\n",
    "def XML_to_dataframe(path):\n",
    "    \"\"\"\n",
    "    [Muuttaa .xml tiedostot pandas-dataframeksi]\n",
    "\n",
    "    Args:\n",
    "        path ([str]): [Reitti kansioon, jossa .xml-tiedostot sijaitsevat]\n",
    "    Returns:\n",
    "        [DataFrame]: [Palauttaa .xml tiedostosta muokatun dataframen.]\n",
    "    \"\"\"\n",
    "    root = parse(path).getroot()\n",
    "    data = []\n",
    "    for record in root.iter(\"record\"):\n",
    "        columns = []\n",
    "        values = []\n",
    "        for col in record:\n",
    "            columns.append(col.tag)\n",
    "            values.append(col.attrib[\"value\"])\n",
    "        data.append({x:y for x,y in zip(columns, values)})\n",
    "\n",
    "    return pd.DataFrame(data)\n",
    "\n",
    "def all_files_to_csv(path, destination):\n",
    "    \"\"\"\n",
    "    [Käy läpi kaikki xml-tiedostot, muuttaa ne .csv-muotoon ja tallentaa destination-kansioon.]\n",
    "\n",
    "    Args:\n",
    "        path ([str]): [Reitti kansioon, jossa .xml-tiedostot sijaitsevat]\n",
    "        destination ([str]): [Reitti kansioon, johon .csv tiedostot halutaan tallentaa]\n",
    "\n",
    "    \"\"\"\n",
    "    all_files = glob.glob(f\"{path}/*.xml\")\n",
    "    for f in all_files:\n",
    "        data = XML_to_dataframe(f)\n",
    "        df_name= str(f'{f.split(\"/\")[-1:]}').rstrip(\"]\").lstrip(\"[\")\n",
    "        df_name = df_name.split(\".\")[-2].lstrip(\"'\")\n",
    "\n",
    "        data.to_csv(f\"{destination}{df_name}.csv\", index=False)\n",
    "all_files_to_csv(path, destination)"
   ]
  },
  {
   "cell_type": "code",
   "execution_count": 2,
   "metadata": {},
   "outputs": [],
   "source": [
    "# Nämä toimivat minun koneella\n",
    "path = \"/home/jovyan/work/Proj3/proj3-team-adconsys/AdConSys/Mittaukset/\"\n",
    "destination = \"/home/jovyan/work/Proj3/proj3-team-adconsys/AdConSys/Mittaukset/\"\n",
    "\n",
    "# Aseta tähän versionhallinnassa olevat reitit\n",
    "# path = \"path to xml files\"\n",
    "# destination = \"where to store csv-files\"\n",
    "\n",
    "\n",
    "\n",
    "all_files_to_csv(path, destination)"
   ]
  },
  {
   "cell_type": "code",
   "execution_count": null,
   "metadata": {},
   "outputs": [],
   "source": []
  }
 ],
 "metadata": {
  "kernelspec": {
   "display_name": "Python 3",
   "language": "python",
   "name": "python3"
  },
  "language_info": {
   "codemirror_mode": {
    "name": "ipython",
    "version": 3
   },
   "file_extension": ".py",
   "mimetype": "text/x-python",
   "name": "python",
   "nbconvert_exporter": "python",
   "pygments_lexer": "ipython3",
   "version": "3.7.9"
  }
 },
 "nbformat": 4,
 "nbformat_minor": 4
}
