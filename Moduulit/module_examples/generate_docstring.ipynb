{
 "cells": [
  {
   "cell_type": "code",
   "execution_count": 1,
   "metadata": {},
   "outputs": [],
   "source": [
    "def generate_docstring(arg1=1, arg2=2):\n",
    "    \"\"\"[Prints docstring template example]\n",
    "\n",
    "    Args:\n",
    "        arg1 ([type]): [description]\n",
    "        arg2 ([type]): [description]\n",
    "\n",
    "    Returns:\n",
    "        [str]: [prints docstring template that can be modified and used to descripe other functions.]\n",
    "    \"\"\"\n",
    "\n",
    "    return     print('''\n",
    "    \"\"\"[summary]\n",
    "\n",
    "    Args:\n",
    "        arg1 ([type]): [description]\n",
    "        arg2 ([type]): [description]\n",
    "\n",
    "    Returns:\n",
    "        [type]: [description]\n",
    "    \"\"\"''')"
   ]
  },
  {
   "cell_type": "code",
   "execution_count": 2,
   "metadata": {},
   "outputs": [
    {
     "name": "stdout",
     "output_type": "stream",
     "text": [
      "\n",
      "    \"\"\"[summary]\n",
      "\n",
      "    Args:\n",
      "        arg1 ([type]): [description]\n",
      "        arg2 ([type]): [description]\n",
      "\n",
      "    Returns:\n",
      "        [type]: [description]\n",
      "    \"\"\"\n"
     ]
    }
   ],
   "source": [
    "generate_docstring()"
   ]
  },
  {
   "cell_type": "code",
   "execution_count": 3,
   "metadata": {},
   "outputs": [
    {
     "data": {
      "text/plain": [
       "\u001b[0;31mSignature:\u001b[0m \u001b[0mgenerate_docstring\u001b[0m\u001b[0;34m(\u001b[0m\u001b[0marg1\u001b[0m\u001b[0;34m=\u001b[0m\u001b[0;36m1\u001b[0m\u001b[0;34m,\u001b[0m \u001b[0marg2\u001b[0m\u001b[0;34m=\u001b[0m\u001b[0;36m2\u001b[0m\u001b[0;34m)\u001b[0m\u001b[0;34m\u001b[0m\u001b[0;34m\u001b[0m\u001b[0m\n",
       "\u001b[0;31mDocstring:\u001b[0m\n",
       "[Prints docstring template example]\n",
       "\n",
       "Args:\n",
       "    arg1 ([type]): [description]\n",
       "    arg2 ([type]): [description]\n",
       "\n",
       "Returns:\n",
       "    [str]: [prints docstring template that can be modified and used to descripe other functions.]\n",
       "\u001b[0;31mFile:\u001b[0m      ~/work/proj3-team-adconsys/Notebookit/module_examples/<ipython-input-1-6b7536474bb3>\n",
       "\u001b[0;31mType:\u001b[0m      function\n"
      ]
     },
     "metadata": {},
     "output_type": "display_data"
    }
   ],
   "source": [
    "generate_docstring?"
   ]
  },
  {
   "cell_type": "code",
   "execution_count": null,
   "metadata": {},
   "outputs": [],
   "source": []
  }
 ],
 "metadata": {
  "kernelspec": {
   "display_name": "Python 3",
   "language": "python",
   "name": "python3"
  },
  "language_info": {
   "codemirror_mode": {
    "name": "ipython",
    "version": 3
   },
   "file_extension": ".py",
   "mimetype": "text/x-python",
   "name": "python",
   "nbconvert_exporter": "python",
   "pygments_lexer": "ipython3",
   "version": "3.7.9"
  }
 },
 "nbformat": 4,
 "nbformat_minor": 4
}
