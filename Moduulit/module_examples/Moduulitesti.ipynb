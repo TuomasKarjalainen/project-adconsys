{
 "cells": [
  {
   "cell_type": "markdown",
   "metadata": {},
   "source": [
    "# Testataan csvConverter-moduulin toiminta"
   ]
  },
  {
   "cell_type": "code",
   "execution_count": 8,
   "metadata": {},
   "outputs": [],
   "source": [
    "import sys\n",
    "import pandas as pd"
   ]
  },
  {
   "cell_type": "code",
   "execution_count": 2,
   "metadata": {},
   "outputs": [],
   "source": [
    "sys.path.append(\"./modules/\")"
   ]
  },
  {
   "cell_type": "code",
   "execution_count": 3,
   "metadata": {},
   "outputs": [],
   "source": [
    "from csvConverter import xmlToCsv"
   ]
  },
  {
   "cell_type": "code",
   "execution_count": 4,
   "metadata": {},
   "outputs": [
    {
     "name": "stdout",
     "output_type": "stream",
     "text": [
      "Help on function xmlToCsv in module csvConverter:\n",
      "\n",
      "xmlToCsv(xml_file, csv_name)\n",
      "    xmlToCsv -function\n",
      "    \n",
      "    Converts XML-file to dataframe and csv-file\n",
      "    \n",
      "    Parameters\n",
      "    ----------\n",
      "    \n",
      "    xml_file :\n",
      "        - The xml-file you want to convert to csv format\n",
      "        - file must be in quotation marks (\"file name here\")\n",
      "    \n",
      "        \n",
      "    csv_name :\n",
      "        - Define name to csv-file\n",
      "    \n",
      "    \n",
      "    \n",
      "    Returns\n",
      "    -------\n",
      "    \n",
      "    Dataframe and csv-file\n",
      "\n"
     ]
    }
   ],
   "source": [
    "help(xmlToCsv)"
   ]
  },
  {
   "cell_type": "code",
   "execution_count": 5,
   "metadata": {},
   "outputs": [
    {
     "data": {
      "text/html": [
       "<div>\n",
       "<style scoped>\n",
       "    .dataframe tbody tr th:only-of-type {\n",
       "        vertical-align: middle;\n",
       "    }\n",
       "\n",
       "    .dataframe tbody tr th {\n",
       "        vertical-align: top;\n",
       "    }\n",
       "\n",
       "    .dataframe thead th {\n",
       "        text-align: right;\n",
       "    }\n",
       "</style>\n",
       "<table border=\"1\" class=\"dataframe\">\n",
       "  <thead>\n",
       "    <tr style=\"text-align: right;\">\n",
       "      <th></th>\n",
       "      <th>timestamp</th>\n",
       "      <th>trendFlags</th>\n",
       "      <th>status</th>\n",
       "      <th>value</th>\n",
       "    </tr>\n",
       "  </thead>\n",
       "  <tbody>\n",
       "    <tr>\n",
       "      <th>0</th>\n",
       "      <td>03-Apr-19 8:51 AM EEST</td>\n",
       "      <td></td>\n",
       "      <td>{ok}</td>\n",
       "      <td>20.29</td>\n",
       "    </tr>\n",
       "    <tr>\n",
       "      <th>1</th>\n",
       "      <td>03-Apr-19 10:33 AM EEST</td>\n",
       "      <td></td>\n",
       "      <td>{ok}</td>\n",
       "      <td>19.66</td>\n",
       "    </tr>\n",
       "    <tr>\n",
       "      <th>2</th>\n",
       "      <td>03-Apr-19 10:38 AM EEST</td>\n",
       "      <td></td>\n",
       "      <td>{ok}</td>\n",
       "      <td>19.03</td>\n",
       "    </tr>\n",
       "    <tr>\n",
       "      <th>3</th>\n",
       "      <td>03-Apr-19 10:57 AM EEST</td>\n",
       "      <td></td>\n",
       "      <td>{ok}</td>\n",
       "      <td>19.54</td>\n",
       "    </tr>\n",
       "    <tr>\n",
       "      <th>4</th>\n",
       "      <td>03-Apr-19 12:10 PM EEST</td>\n",
       "      <td></td>\n",
       "      <td>{ok}</td>\n",
       "      <td>20.08</td>\n",
       "    </tr>\n",
       "    <tr>\n",
       "      <th>...</th>\n",
       "      <td>...</td>\n",
       "      <td>...</td>\n",
       "      <td>...</td>\n",
       "      <td>...</td>\n",
       "    </tr>\n",
       "    <tr>\n",
       "      <th>5927</th>\n",
       "      <td>15-Feb-21 6:05 AM EET</td>\n",
       "      <td></td>\n",
       "      <td>{ok}</td>\n",
       "      <td>20.83</td>\n",
       "    </tr>\n",
       "    <tr>\n",
       "      <th>5928</th>\n",
       "      <td>15-Feb-21 7:37 AM EET</td>\n",
       "      <td></td>\n",
       "      <td>{ok}</td>\n",
       "      <td>20.24</td>\n",
       "    </tr>\n",
       "    <tr>\n",
       "      <th>5929</th>\n",
       "      <td>15-Feb-21 9:14 AM EET</td>\n",
       "      <td></td>\n",
       "      <td>{ok}</td>\n",
       "      <td>20.97</td>\n",
       "    </tr>\n",
       "    <tr>\n",
       "      <th>5930</th>\n",
       "      <td>15-Feb-21 9:22 AM EET</td>\n",
       "      <td></td>\n",
       "      <td>{ok}</td>\n",
       "      <td>20.41</td>\n",
       "    </tr>\n",
       "    <tr>\n",
       "      <th>5931</th>\n",
       "      <td>15-Feb-21 9:38 AM EET</td>\n",
       "      <td></td>\n",
       "      <td>{ok}</td>\n",
       "      <td>19.85</td>\n",
       "    </tr>\n",
       "  </tbody>\n",
       "</table>\n",
       "<p>5932 rows × 4 columns</p>\n",
       "</div>"
      ],
      "text/plain": [
       "                    timestamp trendFlags status  value\n",
       "0      03-Apr-19 8:51 AM EEST              {ok}  20.29\n",
       "1     03-Apr-19 10:33 AM EEST              {ok}  19.66\n",
       "2     03-Apr-19 10:38 AM EEST              {ok}  19.03\n",
       "3     03-Apr-19 10:57 AM EEST              {ok}  19.54\n",
       "4     03-Apr-19 12:10 PM EEST              {ok}  20.08\n",
       "...                       ...        ...    ...    ...\n",
       "5927    15-Feb-21 6:05 AM EET              {ok}  20.83\n",
       "5928    15-Feb-21 7:37 AM EET              {ok}  20.24\n",
       "5929    15-Feb-21 9:14 AM EET              {ok}  20.97\n",
       "5930    15-Feb-21 9:22 AM EET              {ok}  20.41\n",
       "5931    15-Feb-21 9:38 AM EET              {ok}  19.85\n",
       "\n",
       "[5932 rows x 4 columns]"
      ]
     },
     "execution_count": 5,
     "metadata": {},
     "output_type": "execute_result"
    }
   ],
   "source": [
    "xmlToCsv(\"TK1_TE1_3_Tuloilma_LaskettuAs.xml\", \"tuloilma_laskettuAs.csv\")"
   ]
  },
  {
   "cell_type": "code",
   "execution_count": 9,
   "metadata": {},
   "outputs": [],
   "source": [
    "df2 = pd.read_csv('tuloilma_laskettuAs.csv', header=0)"
   ]
  },
  {
   "cell_type": "code",
   "execution_count": 11,
   "metadata": {},
   "outputs": [
    {
     "name": "stdout",
     "output_type": "stream",
     "text": [
      "data before:                  timestamp trendFlags status  value\n",
      "0   03-Apr-19 8:51 AM EEST              {ok}  20.29\n",
      "1  03-Apr-19 10:33 AM EEST              {ok}  19.66\n",
      "2  03-Apr-19 10:38 AM EEST              {ok}  19.03\n"
     ]
    }
   ],
   "source": [
    "print(\"data before:\", df2.head(3))"
   ]
  },
  {
   "cell_type": "code",
   "execution_count": 13,
   "metadata": {},
   "outputs": [
    {
     "data": {
      "text/html": [
       "<div>\n",
       "<style scoped>\n",
       "    .dataframe tbody tr th:only-of-type {\n",
       "        vertical-align: middle;\n",
       "    }\n",
       "\n",
       "    .dataframe tbody tr th {\n",
       "        vertical-align: top;\n",
       "    }\n",
       "\n",
       "    .dataframe thead th {\n",
       "        text-align: right;\n",
       "    }\n",
       "</style>\n",
       "<table border=\"1\" class=\"dataframe\">\n",
       "  <thead>\n",
       "    <tr style=\"text-align: right;\">\n",
       "      <th></th>\n",
       "      <th>timestamp</th>\n",
       "      <th>trendFlags</th>\n",
       "      <th>status</th>\n",
       "      <th>value</th>\n",
       "    </tr>\n",
       "  </thead>\n",
       "  <tbody>\n",
       "    <tr>\n",
       "      <th>0</th>\n",
       "      <td>03-Apr-19 8:51 AM EEST</td>\n",
       "      <td></td>\n",
       "      <td>{ok}</td>\n",
       "      <td>20.29</td>\n",
       "    </tr>\n",
       "    <tr>\n",
       "      <th>1</th>\n",
       "      <td>03-Apr-19 10:33 AM EEST</td>\n",
       "      <td></td>\n",
       "      <td>{ok}</td>\n",
       "      <td>19.66</td>\n",
       "    </tr>\n",
       "  </tbody>\n",
       "</table>\n",
       "</div>"
      ],
      "text/plain": [
       "                 timestamp trendFlags status  value\n",
       "0   03-Apr-19 8:51 AM EEST              {ok}  20.29\n",
       "1  03-Apr-19 10:33 AM EEST              {ok}  19.66"
      ]
     },
     "execution_count": 13,
     "metadata": {},
     "output_type": "execute_result"
    }
   ],
   "source": [
    "df2.head(2)"
   ]
  },
  {
   "cell_type": "code",
   "execution_count": 15,
   "metadata": {},
   "outputs": [
    {
     "name": "stderr",
     "output_type": "stream",
     "text": [
      "/opt/conda/lib/python3.7/site-packages/dateutil/parser/_parser.py:1218: UnknownTimezoneWarning: tzname EEST identified but not understood.  Pass `tzinfos` argument in order to correctly return a timezone-aware datetime.  In a future version, this will raise an exception.\n",
      "  category=UnknownTimezoneWarning)\n",
      "/opt/conda/lib/python3.7/site-packages/dateutil/parser/_parser.py:1218: UnknownTimezoneWarning: tzname EET identified but not understood.  Pass `tzinfos` argument in order to correctly return a timezone-aware datetime.  In a future version, this will raise an exception.\n",
      "  category=UnknownTimezoneWarning)\n"
     ]
    }
   ],
   "source": [
    "df2['timestamp'] = pd.to_datetime(df2['timestamp'], errors='coerce')"
   ]
  },
  {
   "cell_type": "code",
   "execution_count": 16,
   "metadata": {},
   "outputs": [
    {
     "data": {
      "text/html": [
       "<div>\n",
       "<style scoped>\n",
       "    .dataframe tbody tr th:only-of-type {\n",
       "        vertical-align: middle;\n",
       "    }\n",
       "\n",
       "    .dataframe tbody tr th {\n",
       "        vertical-align: top;\n",
       "    }\n",
       "\n",
       "    .dataframe thead th {\n",
       "        text-align: right;\n",
       "    }\n",
       "</style>\n",
       "<table border=\"1\" class=\"dataframe\">\n",
       "  <thead>\n",
       "    <tr style=\"text-align: right;\">\n",
       "      <th></th>\n",
       "      <th>timestamp</th>\n",
       "      <th>trendFlags</th>\n",
       "      <th>status</th>\n",
       "      <th>value</th>\n",
       "    </tr>\n",
       "  </thead>\n",
       "  <tbody>\n",
       "    <tr>\n",
       "      <th>0</th>\n",
       "      <td>2019-04-03 08:51:00</td>\n",
       "      <td></td>\n",
       "      <td>{ok}</td>\n",
       "      <td>20.29</td>\n",
       "    </tr>\n",
       "    <tr>\n",
       "      <th>1</th>\n",
       "      <td>2019-04-03 10:33:00</td>\n",
       "      <td></td>\n",
       "      <td>{ok}</td>\n",
       "      <td>19.66</td>\n",
       "    </tr>\n",
       "    <tr>\n",
       "      <th>2</th>\n",
       "      <td>2019-04-03 10:38:00</td>\n",
       "      <td></td>\n",
       "      <td>{ok}</td>\n",
       "      <td>19.03</td>\n",
       "    </tr>\n",
       "  </tbody>\n",
       "</table>\n",
       "</div>"
      ],
      "text/plain": [
       "            timestamp trendFlags status  value\n",
       "0 2019-04-03 08:51:00              {ok}  20.29\n",
       "1 2019-04-03 10:33:00              {ok}  19.66\n",
       "2 2019-04-03 10:38:00              {ok}  19.03"
      ]
     },
     "execution_count": 16,
     "metadata": {},
     "output_type": "execute_result"
    }
   ],
   "source": [
    "df2.head(3)"
   ]
  },
  {
   "cell_type": "code",
   "execution_count": 18,
   "metadata": {},
   "outputs": [],
   "source": [
    "df2['day'] = df2.timestamp.dt.day\n",
    "df2['month']= df2.timestamp.dt.month\n",
    "df2['year'] = df2.timestamp.dt.year\n",
    "df2['date'] = pd.to_datetime({'year':df2['year'],'month':df2['month'],'day':df2['day']}) "
   ]
  },
  {
   "cell_type": "code",
   "execution_count": 19,
   "metadata": {},
   "outputs": [
    {
     "data": {
      "text/html": [
       "<div>\n",
       "<style scoped>\n",
       "    .dataframe tbody tr th:only-of-type {\n",
       "        vertical-align: middle;\n",
       "    }\n",
       "\n",
       "    .dataframe tbody tr th {\n",
       "        vertical-align: top;\n",
       "    }\n",
       "\n",
       "    .dataframe thead th {\n",
       "        text-align: right;\n",
       "    }\n",
       "</style>\n",
       "<table border=\"1\" class=\"dataframe\">\n",
       "  <thead>\n",
       "    <tr style=\"text-align: right;\">\n",
       "      <th></th>\n",
       "      <th>timestamp</th>\n",
       "      <th>trendFlags</th>\n",
       "      <th>status</th>\n",
       "      <th>value</th>\n",
       "      <th>day</th>\n",
       "      <th>month</th>\n",
       "      <th>year</th>\n",
       "      <th>date</th>\n",
       "    </tr>\n",
       "  </thead>\n",
       "  <tbody>\n",
       "    <tr>\n",
       "      <th>0</th>\n",
       "      <td>2019-04-03 08:51:00</td>\n",
       "      <td></td>\n",
       "      <td>{ok}</td>\n",
       "      <td>20.29</td>\n",
       "      <td>3</td>\n",
       "      <td>4</td>\n",
       "      <td>2019</td>\n",
       "      <td>2019-04-03</td>\n",
       "    </tr>\n",
       "    <tr>\n",
       "      <th>1</th>\n",
       "      <td>2019-04-03 10:33:00</td>\n",
       "      <td></td>\n",
       "      <td>{ok}</td>\n",
       "      <td>19.66</td>\n",
       "      <td>3</td>\n",
       "      <td>4</td>\n",
       "      <td>2019</td>\n",
       "      <td>2019-04-03</td>\n",
       "    </tr>\n",
       "    <tr>\n",
       "      <th>2</th>\n",
       "      <td>2019-04-03 10:38:00</td>\n",
       "      <td></td>\n",
       "      <td>{ok}</td>\n",
       "      <td>19.03</td>\n",
       "      <td>3</td>\n",
       "      <td>4</td>\n",
       "      <td>2019</td>\n",
       "      <td>2019-04-03</td>\n",
       "    </tr>\n",
       "  </tbody>\n",
       "</table>\n",
       "</div>"
      ],
      "text/plain": [
       "            timestamp trendFlags status  value  day  month  year       date\n",
       "0 2019-04-03 08:51:00              {ok}  20.29    3      4  2019 2019-04-03\n",
       "1 2019-04-03 10:33:00              {ok}  19.66    3      4  2019 2019-04-03\n",
       "2 2019-04-03 10:38:00              {ok}  19.03    3      4  2019 2019-04-03"
      ]
     },
     "execution_count": 19,
     "metadata": {},
     "output_type": "execute_result"
    }
   ],
   "source": [
    "df2.head(3)"
   ]
  },
  {
   "cell_type": "code",
   "execution_count": null,
   "metadata": {},
   "outputs": [],
   "source": []
  }
 ],
 "metadata": {
  "kernelspec": {
   "display_name": "Python 3",
   "language": "python",
   "name": "python3"
  },
  "language_info": {
   "codemirror_mode": {
    "name": "ipython",
    "version": 3
   },
   "file_extension": ".py",
   "mimetype": "text/x-python",
   "name": "python",
   "nbconvert_exporter": "python",
   "pygments_lexer": "ipython3",
   "version": "3.7.9"
  }
 },
 "nbformat": 4,
 "nbformat_minor": 4
}
