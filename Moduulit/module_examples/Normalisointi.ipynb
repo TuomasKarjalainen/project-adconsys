{
 "cells": [
  {
   "cell_type": "markdown",
   "metadata": {},
   "source": [
    "# Normalisointi"
   ]
  },
  {
   "cell_type": "code",
   "execution_count": 48,
   "metadata": {},
   "outputs": [],
   "source": [
    "import sys\n",
    "import pandas as pd\n",
    "import numpy as np\n",
    "import matplotlib.pyplot as plt\n",
    "import seaborn as seabornInstance \n",
    "%matplotlib inline\n",
    "\n",
    "%reload_ext autoreload\n",
    "%autoreload 2\n",
    "\n",
    "sys.path.append(\"./modules/\")\n",
    "\n",
    "import warnings\n",
    "warnings.filterwarnings('ignore')\n",
    "\n",
    "#from check_status import check_status\n",
    "#from checker import check_difference\n",
    "#from rm_outliers import remove_outliers\n",
    "#from datacleaner import dataCleaner\n",
    "from LaskAs_drop import laskas_drop\n",
    "from Piikit_drop import piikit_drop\n",
    "from trendflagspoisto import trendflagsit\n",
    "from LTOS_value_drop import value_siivous"
   ]
  },
  {
   "cell_type": "markdown",
   "metadata": {},
   "source": [
    "## Hae data"
   ]
  },
  {
   "cell_type": "code",
   "execution_count": 49,
   "metadata": {},
   "outputs": [
    {
     "data": {
      "text/html": [
       "<div>\n",
       "<style scoped>\n",
       "    .dataframe tbody tr th:only-of-type {\n",
       "        vertical-align: middle;\n",
       "    }\n",
       "\n",
       "    .dataframe tbody tr th {\n",
       "        vertical-align: top;\n",
       "    }\n",
       "\n",
       "    .dataframe thead th {\n",
       "        text-align: right;\n",
       "    }\n",
       "</style>\n",
       "<table border=\"1\" class=\"dataframe\">\n",
       "  <thead>\n",
       "    <tr style=\"text-align: right;\">\n",
       "      <th></th>\n",
       "      <th>Unnamed: 0</th>\n",
       "      <th>timestamp</th>\n",
       "      <th>trendFlags_1LaskAs</th>\n",
       "      <th>status_1LaskAs</th>\n",
       "      <th>value_1LaskAs</th>\n",
       "      <th>value_difference_1LaskAs</th>\n",
       "      <th>trendFlags_MenovesiLaskAs</th>\n",
       "      <th>status_MenovesiLaskAs</th>\n",
       "      <th>value_MenovesiLaskAs</th>\n",
       "      <th>value_difference_MenovesiLaskAs</th>\n",
       "      <th>...</th>\n",
       "      <th>value_TuloilmaLaskettuAs</th>\n",
       "      <th>value_difference_TuloilmaLaskettuAs</th>\n",
       "      <th>trendFlags_PoistoM</th>\n",
       "      <th>status_PoistoM</th>\n",
       "      <th>value_PoistoM</th>\n",
       "      <th>value_difference_PoistoM</th>\n",
       "      <th>trendFlags_PatterinPaluuvesiM</th>\n",
       "      <th>status_PatterinPaluuvesiM</th>\n",
       "      <th>value_PatterinPaluuvesiM</th>\n",
       "      <th>value_difference_PatterinPaluuvesiM</th>\n",
       "    </tr>\n",
       "  </thead>\n",
       "  <tbody>\n",
       "    <tr>\n",
       "      <th>0</th>\n",
       "      <td>0</td>\n",
       "      <td>2019-04-03 08:51:00</td>\n",
       "      <td>{start}</td>\n",
       "      <td>{ok}</td>\n",
       "      <td>140.0</td>\n",
       "      <td>NaN</td>\n",
       "      <td>{start}</td>\n",
       "      <td>{ok}</td>\n",
       "      <td>42.42</td>\n",
       "      <td>NaN</td>\n",
       "      <td>...</td>\n",
       "      <td>20.29</td>\n",
       "      <td>NaN</td>\n",
       "      <td>{start}</td>\n",
       "      <td>{ok}</td>\n",
       "      <td>21.07</td>\n",
       "      <td>NaN</td>\n",
       "      <td>NaN</td>\n",
       "      <td>NaN</td>\n",
       "      <td>NaN</td>\n",
       "      <td>NaN</td>\n",
       "    </tr>\n",
       "    <tr>\n",
       "      <th>1</th>\n",
       "      <td>1</td>\n",
       "      <td>2019-04-03 09:16:00</td>\n",
       "      <td>{start}</td>\n",
       "      <td>{ok}</td>\n",
       "      <td>140.0</td>\n",
       "      <td>NaN</td>\n",
       "      <td>{ }</td>\n",
       "      <td>{ok}</td>\n",
       "      <td>41.90</td>\n",
       "      <td>-0.52</td>\n",
       "      <td>...</td>\n",
       "      <td>20.29</td>\n",
       "      <td>NaN</td>\n",
       "      <td>{start}</td>\n",
       "      <td>{ok}</td>\n",
       "      <td>21.07</td>\n",
       "      <td>NaN</td>\n",
       "      <td>NaN</td>\n",
       "      <td>NaN</td>\n",
       "      <td>NaN</td>\n",
       "      <td>NaN</td>\n",
       "    </tr>\n",
       "    <tr>\n",
       "      <th>2</th>\n",
       "      <td>2</td>\n",
       "      <td>2019-04-03 09:33:00</td>\n",
       "      <td>{start}</td>\n",
       "      <td>{ok}</td>\n",
       "      <td>140.0</td>\n",
       "      <td>NaN</td>\n",
       "      <td>{ }</td>\n",
       "      <td>{ok}</td>\n",
       "      <td>41.37</td>\n",
       "      <td>-0.53</td>\n",
       "      <td>...</td>\n",
       "      <td>20.29</td>\n",
       "      <td>NaN</td>\n",
       "      <td>{start}</td>\n",
       "      <td>{ok}</td>\n",
       "      <td>21.07</td>\n",
       "      <td>NaN</td>\n",
       "      <td>NaN</td>\n",
       "      <td>NaN</td>\n",
       "      <td>NaN</td>\n",
       "      <td>NaN</td>\n",
       "    </tr>\n",
       "    <tr>\n",
       "      <th>3</th>\n",
       "      <td>3</td>\n",
       "      <td>2019-04-03 09:51:00</td>\n",
       "      <td>{start}</td>\n",
       "      <td>{ok}</td>\n",
       "      <td>140.0</td>\n",
       "      <td>NaN</td>\n",
       "      <td>{ }</td>\n",
       "      <td>{ok}</td>\n",
       "      <td>40.85</td>\n",
       "      <td>-0.52</td>\n",
       "      <td>...</td>\n",
       "      <td>20.29</td>\n",
       "      <td>NaN</td>\n",
       "      <td>{start}</td>\n",
       "      <td>{ok}</td>\n",
       "      <td>21.07</td>\n",
       "      <td>NaN</td>\n",
       "      <td>NaN</td>\n",
       "      <td>NaN</td>\n",
       "      <td>NaN</td>\n",
       "      <td>NaN</td>\n",
       "    </tr>\n",
       "    <tr>\n",
       "      <th>4</th>\n",
       "      <td>4</td>\n",
       "      <td>2019-04-03 10:10:00</td>\n",
       "      <td>{start}</td>\n",
       "      <td>{ok}</td>\n",
       "      <td>140.0</td>\n",
       "      <td>NaN</td>\n",
       "      <td>{ }</td>\n",
       "      <td>{ok}</td>\n",
       "      <td>40.33</td>\n",
       "      <td>-0.52</td>\n",
       "      <td>...</td>\n",
       "      <td>20.29</td>\n",
       "      <td>NaN</td>\n",
       "      <td>{start}</td>\n",
       "      <td>{ok}</td>\n",
       "      <td>21.07</td>\n",
       "      <td>NaN</td>\n",
       "      <td>NaN</td>\n",
       "      <td>NaN</td>\n",
       "      <td>NaN</td>\n",
       "      <td>NaN</td>\n",
       "    </tr>\n",
       "  </tbody>\n",
       "</table>\n",
       "<p>5 rows × 42 columns</p>\n",
       "</div>"
      ],
      "text/plain": [
       "   Unnamed: 0            timestamp trendFlags_1LaskAs status_1LaskAs  \\\n",
       "0           0  2019-04-03 08:51:00            {start}           {ok}   \n",
       "1           1  2019-04-03 09:16:00            {start}           {ok}   \n",
       "2           2  2019-04-03 09:33:00            {start}           {ok}   \n",
       "3           3  2019-04-03 09:51:00            {start}           {ok}   \n",
       "4           4  2019-04-03 10:10:00            {start}           {ok}   \n",
       "\n",
       "   value_1LaskAs  value_difference_1LaskAs trendFlags_MenovesiLaskAs  \\\n",
       "0          140.0                       NaN                   {start}   \n",
       "1          140.0                       NaN                       { }   \n",
       "2          140.0                       NaN                       { }   \n",
       "3          140.0                       NaN                       { }   \n",
       "4          140.0                       NaN                       { }   \n",
       "\n",
       "  status_MenovesiLaskAs  value_MenovesiLaskAs  \\\n",
       "0                  {ok}                 42.42   \n",
       "1                  {ok}                 41.90   \n",
       "2                  {ok}                 41.37   \n",
       "3                  {ok}                 40.85   \n",
       "4                  {ok}                 40.33   \n",
       "\n",
       "   value_difference_MenovesiLaskAs  ... value_TuloilmaLaskettuAs  \\\n",
       "0                              NaN  ...                    20.29   \n",
       "1                            -0.52  ...                    20.29   \n",
       "2                            -0.53  ...                    20.29   \n",
       "3                            -0.52  ...                    20.29   \n",
       "4                            -0.52  ...                    20.29   \n",
       "\n",
       "  value_difference_TuloilmaLaskettuAs  trendFlags_PoistoM  status_PoistoM  \\\n",
       "0                                 NaN             {start}            {ok}   \n",
       "1                                 NaN             {start}            {ok}   \n",
       "2                                 NaN             {start}            {ok}   \n",
       "3                                 NaN             {start}            {ok}   \n",
       "4                                 NaN             {start}            {ok}   \n",
       "\n",
       "  value_PoistoM value_difference_PoistoM  trendFlags_PatterinPaluuvesiM  \\\n",
       "0         21.07                      NaN                            NaN   \n",
       "1         21.07                      NaN                            NaN   \n",
       "2         21.07                      NaN                            NaN   \n",
       "3         21.07                      NaN                            NaN   \n",
       "4         21.07                      NaN                            NaN   \n",
       "\n",
       "   status_PatterinPaluuvesiM value_PatterinPaluuvesiM  \\\n",
       "0                        NaN                      NaN   \n",
       "1                        NaN                      NaN   \n",
       "2                        NaN                      NaN   \n",
       "3                        NaN                      NaN   \n",
       "4                        NaN                      NaN   \n",
       "\n",
       "  value_difference_PatterinPaluuvesiM  \n",
       "0                                 NaN  \n",
       "1                                 NaN  \n",
       "2                                 NaN  \n",
       "3                                 NaN  \n",
       "4                                 NaN  \n",
       "\n",
       "[5 rows x 42 columns]"
      ]
     },
     "execution_count": 49,
     "metadata": {},
     "output_type": "execute_result"
    }
   ],
   "source": [
    "df = pd.read_csv('./csv/yhdistetty_df.csv', header=0)\n",
    "df.head()"
   ]
  },
  {
   "cell_type": "code",
   "execution_count": 50,
   "metadata": {},
   "outputs": [
    {
     "data": {
      "text/plain": [
       "(1166627, 42)"
      ]
     },
     "execution_count": 50,
     "metadata": {},
     "output_type": "execute_result"
    }
   ],
   "source": [
    "df.shape"
   ]
  },
  {
   "cell_type": "code",
   "execution_count": 51,
   "metadata": {},
   "outputs": [
    {
     "data": {
      "text/plain": [
       "Index(['Unnamed: 0', 'timestamp', 'trendFlags_1LaskAs', 'status_1LaskAs',\n",
       "       'value_1LaskAs', 'value_difference_1LaskAs',\n",
       "       'trendFlags_MenovesiLaskAs', 'status_MenovesiLaskAs',\n",
       "       'value_MenovesiLaskAs', 'value_difference_MenovesiLaskAs',\n",
       "       'trendFlags_MenoM', 'status_MenoM', 'value_MenoM',\n",
       "       'value_difference_MenoM', 'trendFlags_UlkoLampotila',\n",
       "       'status_UlkoLampotila', 'value_UlkoLampotila',\n",
       "       'value_difference_UlkoLampotila', 'trendFlags_LammitysS',\n",
       "       'status_LammitysS', 'value_LammitysS', 'value_difference_LammitysS',\n",
       "       'trendFlags_LTOS', 'status_LTOS', 'value_LTOS', 'value_difference_LTOS',\n",
       "       'trendFlags_TuloM', 'status_TuloM', 'value_TuloM',\n",
       "       'value_difference_TuloM', 'trendFlags_TuloilmaLaskettuAs',\n",
       "       'status_TuloilmaLaskettuAs', 'value_TuloilmaLaskettuAs',\n",
       "       'value_difference_TuloilmaLaskettuAs', 'trendFlags_PoistoM',\n",
       "       'status_PoistoM', 'value_PoistoM', 'value_difference_PoistoM',\n",
       "       'trendFlags_PatterinPaluuvesiM', 'status_PatterinPaluuvesiM',\n",
       "       'value_PatterinPaluuvesiM', 'value_difference_PatterinPaluuvesiM'],\n",
       "      dtype='object')"
      ]
     },
     "execution_count": 51,
     "metadata": {},
     "output_type": "execute_result"
    }
   ],
   "source": [
    "df.columns"
   ]
  },
  {
   "cell_type": "markdown",
   "metadata": {},
   "source": [
    "## Check value"
   ]
  },
  {
   "cell_type": "markdown",
   "metadata": {},
   "source": [
    "### Esim: value_1LaskAs"
   ]
  },
  {
   "cell_type": "code",
   "execution_count": 52,
   "metadata": {},
   "outputs": [
    {
     "data": {
      "text/plain": [
       "0          140.0\n",
       "1          140.0\n",
       "2          140.0\n",
       "3          140.0\n",
       "4          140.0\n",
       "           ...  \n",
       "1166622    140.0\n",
       "1166623    140.0\n",
       "1166624    140.0\n",
       "1166625    140.0\n",
       "1166626    140.0\n",
       "Name: value_1LaskAs, Length: 1166627, dtype: float64"
      ]
     },
     "execution_count": 52,
     "metadata": {},
     "output_type": "execute_result"
    }
   ],
   "source": [
    "df.value_1LaskAs"
   ]
  },
  {
   "cell_type": "code",
   "execution_count": 53,
   "metadata": {},
   "outputs": [
    {
     "data": {
      "text/plain": [
       "(1166627,)"
      ]
     },
     "execution_count": 53,
     "metadata": {},
     "output_type": "execute_result"
    }
   ],
   "source": [
    "df.value_1LaskAs.shape"
   ]
  },
  {
   "cell_type": "code",
   "execution_count": 54,
   "metadata": {},
   "outputs": [
    {
     "data": {
      "text/plain": [
       "0          True\n",
       "1          True\n",
       "2          True\n",
       "3          True\n",
       "4          True\n",
       "           ... \n",
       "1166622    True\n",
       "1166623    True\n",
       "1166624    True\n",
       "1166625    True\n",
       "1166626    True\n",
       "Name: value_1LaskAs, Length: 1166627, dtype: bool"
      ]
     },
     "execution_count": 54,
     "metadata": {},
     "output_type": "execute_result"
    }
   ],
   "source": [
    "df.value_1LaskAs.notnull()"
   ]
  },
  {
   "cell_type": "code",
   "execution_count": 55,
   "metadata": {},
   "outputs": [
    {
     "data": {
      "text/plain": [
       "140.0    609682\n",
       "70.0     556940\n",
       "0.0           5\n",
       "Name: value_1LaskAs, dtype: int64"
      ]
     },
     "execution_count": 55,
     "metadata": {},
     "output_type": "execute_result"
    }
   ],
   "source": [
    "df.value_1LaskAs.value_counts()"
   ]
  },
  {
   "cell_type": "markdown",
   "metadata": {},
   "source": [
    "## datan siivoaminen"
   ]
  },
  {
   "cell_type": "code",
   "execution_count": 56,
   "metadata": {},
   "outputs": [
    {
     "name": "stdout",
     "output_type": "stream",
     "text": [
      "\n",
      "All rows:  (1166627, 42)\n",
      "\n",
      "Checking the column 'value_1LaskAs' for NaN values:  0\n",
      "\n",
      "Checking the rows for 0 values:  (5, 42)\n",
      "\n",
      "-----------------------------------------\n",
      "Removing all rows that contain a 0 value\n",
      "-----------------------------------------\n",
      "\n",
      "New all rows:  (1166622, 42)\n",
      "\n",
      "Done in 0.83 seconds\n"
     ]
    }
   ],
   "source": [
    "df = laskas_drop(df)"
   ]
  },
  {
   "cell_type": "code",
   "execution_count": 57,
   "metadata": {},
   "outputs": [
    {
     "name": "stdout",
     "output_type": "stream",
     "text": [
      "\n",
      "All rows:  (1166622, 42)\n",
      "\n",
      "Checking the column 'value_LammitysS' for NaN values:  109169\n",
      "\n",
      "Checking the rows for 100 values:  (18043, 42)\n",
      "\n",
      "-----------------------------------------\n",
      "Removing all rows that contain a 100 value\n",
      "-----------------------------------------\n",
      "\n",
      "New all rows:  (1039410, 42)\n",
      "\n",
      "Done in 1.11 seconds\n"
     ]
    }
   ],
   "source": [
    "df = piikit_drop(df)"
   ]
  },
  {
   "cell_type": "code",
   "execution_count": 58,
   "metadata": {},
   "outputs": [
    {
     "name": "stdout",
     "output_type": "stream",
     "text": [
      "rows at the start:  1039410\n",
      "check how many NaN values there are and remove them:  0\n",
      "remove all rows where value_LTOS is under 100\n",
      "rows after operation:  640620\n"
     ]
    }
   ],
   "source": [
    "df = value_siivous(df)"
   ]
  },
  {
   "cell_type": "code",
   "execution_count": 59,
   "metadata": {},
   "outputs": [
    {
     "name": "stdout",
     "output_type": "stream",
     "text": [
      "rows at the start:  640620\n",
      "rows after operation:  638339\n"
     ]
    }
   ],
   "source": [
    "df = trendflagsit(df)"
   ]
  },
  {
   "cell_type": "code",
   "execution_count": 60,
   "metadata": {},
   "outputs": [
    {
     "data": {
      "text/plain": [
       "(638339, 42)"
      ]
     },
     "execution_count": 60,
     "metadata": {},
     "output_type": "execute_result"
    }
   ],
   "source": [
    "df.shape"
   ]
  },
  {
   "cell_type": "markdown",
   "metadata": {},
   "source": [
    "## normalisointi"
   ]
  },
  {
   "cell_type": "markdown",
   "metadata": {},
   "source": [
    "### Tapa. 1"
   ]
  },
  {
   "cell_type": "code",
   "execution_count": 61,
   "metadata": {},
   "outputs": [
    {
     "data": {
      "text/html": [
       "<div>\n",
       "<style scoped>\n",
       "    .dataframe tbody tr th:only-of-type {\n",
       "        vertical-align: middle;\n",
       "    }\n",
       "\n",
       "    .dataframe tbody tr th {\n",
       "        vertical-align: top;\n",
       "    }\n",
       "\n",
       "    .dataframe thead th {\n",
       "        text-align: right;\n",
       "    }\n",
       "</style>\n",
       "<table border=\"1\" class=\"dataframe\">\n",
       "  <thead>\n",
       "    <tr style=\"text-align: right;\">\n",
       "      <th></th>\n",
       "      <th>value_1LaskAs</th>\n",
       "      <th>value_MenovesiLaskAs</th>\n",
       "      <th>value_MenoM</th>\n",
       "      <th>value_UlkoLampotila</th>\n",
       "      <th>value_LammitysS</th>\n",
       "      <th>value_LTOS</th>\n",
       "      <th>value_TuloM</th>\n",
       "      <th>value_TuloilmaLaskettuAs</th>\n",
       "      <th>value_PoistoM</th>\n",
       "      <th>value_PatterinPaluuvesiM</th>\n",
       "    </tr>\n",
       "  </thead>\n",
       "  <tbody>\n",
       "    <tr>\n",
       "      <th>0</th>\n",
       "      <td>0.0</td>\n",
       "      <td>0.526558</td>\n",
       "      <td>NaN</td>\n",
       "      <td>0.367871</td>\n",
       "      <td>0.143714</td>\n",
       "      <td>NaN</td>\n",
       "      <td>0.460240</td>\n",
       "      <td>0.531429</td>\n",
       "      <td>0.355382</td>\n",
       "      <td>NaN</td>\n",
       "    </tr>\n",
       "    <tr>\n",
       "      <th>1</th>\n",
       "      <td>0.0</td>\n",
       "      <td>0.526558</td>\n",
       "      <td>NaN</td>\n",
       "      <td>0.367871</td>\n",
       "      <td>0.143514</td>\n",
       "      <td>NaN</td>\n",
       "      <td>0.460240</td>\n",
       "      <td>0.531429</td>\n",
       "      <td>0.355382</td>\n",
       "      <td>NaN</td>\n",
       "    </tr>\n",
       "    <tr>\n",
       "      <th>2</th>\n",
       "      <td>0.0</td>\n",
       "      <td>0.526558</td>\n",
       "      <td>NaN</td>\n",
       "      <td>0.367871</td>\n",
       "      <td>0.155016</td>\n",
       "      <td>NaN</td>\n",
       "      <td>0.460240</td>\n",
       "      <td>0.531429</td>\n",
       "      <td>0.355382</td>\n",
       "      <td>NaN</td>\n",
       "    </tr>\n",
       "    <tr>\n",
       "      <th>3</th>\n",
       "      <td>0.0</td>\n",
       "      <td>0.526558</td>\n",
       "      <td>NaN</td>\n",
       "      <td>0.367871</td>\n",
       "      <td>0.144214</td>\n",
       "      <td>NaN</td>\n",
       "      <td>0.460240</td>\n",
       "      <td>0.531429</td>\n",
       "      <td>0.355382</td>\n",
       "      <td>NaN</td>\n",
       "    </tr>\n",
       "    <tr>\n",
       "      <th>4</th>\n",
       "      <td>0.0</td>\n",
       "      <td>0.526558</td>\n",
       "      <td>NaN</td>\n",
       "      <td>0.367871</td>\n",
       "      <td>0.155916</td>\n",
       "      <td>NaN</td>\n",
       "      <td>0.460240</td>\n",
       "      <td>0.531429</td>\n",
       "      <td>0.355382</td>\n",
       "      <td>NaN</td>\n",
       "    </tr>\n",
       "    <tr>\n",
       "      <th>...</th>\n",
       "      <td>...</td>\n",
       "      <td>...</td>\n",
       "      <td>...</td>\n",
       "      <td>...</td>\n",
       "      <td>...</td>\n",
       "      <td>...</td>\n",
       "      <td>...</td>\n",
       "      <td>...</td>\n",
       "      <td>...</td>\n",
       "      <td>...</td>\n",
       "    </tr>\n",
       "    <tr>\n",
       "      <th>638334</th>\n",
       "      <td>1.0</td>\n",
       "      <td>0.768912</td>\n",
       "      <td>0.555818</td>\n",
       "      <td>0.193302</td>\n",
       "      <td>0.236524</td>\n",
       "      <td>NaN</td>\n",
       "      <td>0.470458</td>\n",
       "      <td>0.550000</td>\n",
       "      <td>0.377631</td>\n",
       "      <td>0.301457</td>\n",
       "    </tr>\n",
       "    <tr>\n",
       "      <th>638335</th>\n",
       "      <td>1.0</td>\n",
       "      <td>0.768912</td>\n",
       "      <td>0.569981</td>\n",
       "      <td>0.193302</td>\n",
       "      <td>0.236524</td>\n",
       "      <td>NaN</td>\n",
       "      <td>0.470458</td>\n",
       "      <td>0.550000</td>\n",
       "      <td>0.377631</td>\n",
       "      <td>0.301457</td>\n",
       "    </tr>\n",
       "    <tr>\n",
       "      <th>638336</th>\n",
       "      <td>1.0</td>\n",
       "      <td>0.768912</td>\n",
       "      <td>0.577478</td>\n",
       "      <td>0.193302</td>\n",
       "      <td>0.236524</td>\n",
       "      <td>NaN</td>\n",
       "      <td>0.470458</td>\n",
       "      <td>0.550000</td>\n",
       "      <td>0.377631</td>\n",
       "      <td>0.301457</td>\n",
       "    </tr>\n",
       "    <tr>\n",
       "      <th>638337</th>\n",
       "      <td>1.0</td>\n",
       "      <td>0.768912</td>\n",
       "      <td>0.569981</td>\n",
       "      <td>0.193302</td>\n",
       "      <td>0.236524</td>\n",
       "      <td>NaN</td>\n",
       "      <td>0.470458</td>\n",
       "      <td>0.550000</td>\n",
       "      <td>0.377631</td>\n",
       "      <td>0.301457</td>\n",
       "    </tr>\n",
       "    <tr>\n",
       "      <th>638338</th>\n",
       "      <td>1.0</td>\n",
       "      <td>0.768912</td>\n",
       "      <td>0.557484</td>\n",
       "      <td>0.193302</td>\n",
       "      <td>0.236524</td>\n",
       "      <td>NaN</td>\n",
       "      <td>0.470458</td>\n",
       "      <td>0.550000</td>\n",
       "      <td>0.377631</td>\n",
       "      <td>0.301457</td>\n",
       "    </tr>\n",
       "  </tbody>\n",
       "</table>\n",
       "<p>638339 rows × 10 columns</p>\n",
       "</div>"
      ],
      "text/plain": [
       "        value_1LaskAs  value_MenovesiLaskAs  value_MenoM  value_UlkoLampotila  \\\n",
       "0                 0.0              0.526558          NaN             0.367871   \n",
       "1                 0.0              0.526558          NaN             0.367871   \n",
       "2                 0.0              0.526558          NaN             0.367871   \n",
       "3                 0.0              0.526558          NaN             0.367871   \n",
       "4                 0.0              0.526558          NaN             0.367871   \n",
       "...               ...                   ...          ...                  ...   \n",
       "638334            1.0              0.768912     0.555818             0.193302   \n",
       "638335            1.0              0.768912     0.569981             0.193302   \n",
       "638336            1.0              0.768912     0.577478             0.193302   \n",
       "638337            1.0              0.768912     0.569981             0.193302   \n",
       "638338            1.0              0.768912     0.557484             0.193302   \n",
       "\n",
       "        value_LammitysS  value_LTOS  value_TuloM  value_TuloilmaLaskettuAs  \\\n",
       "0              0.143714         NaN     0.460240                  0.531429   \n",
       "1              0.143514         NaN     0.460240                  0.531429   \n",
       "2              0.155016         NaN     0.460240                  0.531429   \n",
       "3              0.144214         NaN     0.460240                  0.531429   \n",
       "4              0.155916         NaN     0.460240                  0.531429   \n",
       "...                 ...         ...          ...                       ...   \n",
       "638334         0.236524         NaN     0.470458                  0.550000   \n",
       "638335         0.236524         NaN     0.470458                  0.550000   \n",
       "638336         0.236524         NaN     0.470458                  0.550000   \n",
       "638337         0.236524         NaN     0.470458                  0.550000   \n",
       "638338         0.236524         NaN     0.470458                  0.550000   \n",
       "\n",
       "        value_PoistoM  value_PatterinPaluuvesiM  \n",
       "0            0.355382                       NaN  \n",
       "1            0.355382                       NaN  \n",
       "2            0.355382                       NaN  \n",
       "3            0.355382                       NaN  \n",
       "4            0.355382                       NaN  \n",
       "...               ...                       ...  \n",
       "638334       0.377631                  0.301457  \n",
       "638335       0.377631                  0.301457  \n",
       "638336       0.377631                  0.301457  \n",
       "638337       0.377631                  0.301457  \n",
       "638338       0.377631                  0.301457  \n",
       "\n",
       "[638339 rows x 10 columns]"
      ]
     },
     "execution_count": 61,
     "metadata": {},
     "output_type": "execute_result"
    }
   ],
   "source": [
    "df_v = df[['value_1LaskAs',\n",
    "           'value_MenovesiLaskAs',\n",
    "           'value_MenoM',\n",
    "           'value_UlkoLampotila',\n",
    "           'value_LammitysS',\n",
    "           'value_LTOS',\n",
    "           'value_TuloM',\n",
    "           'value_TuloilmaLaskettuAs', \n",
    "           'value_PoistoM', \n",
    "           'value_PatterinPaluuvesiM']]\n",
    "\n",
    "def normalisointi(df):\n",
    "    df_nor = df.copy()\n",
    "    for col in df_nor.columns:\n",
    "        df_nor[col] = (df_nor[col] - df_nor[col].min()) / (df_nor[col].max() - df_nor[col].min())\n",
    "        \n",
    "    return df_nor\n",
    "\n",
    "df_value_normalisointi = normalisointi(df_v)\n",
    "\n",
    "df_value_normalisointi"
   ]
  },
  {
   "cell_type": "markdown",
   "metadata": {},
   "source": [
    "### Tapa. 2"
   ]
  },
  {
   "cell_type": "code",
   "execution_count": 62,
   "metadata": {},
   "outputs": [
    {
     "data": {
      "text/html": [
       "<div>\n",
       "<style scoped>\n",
       "    .dataframe tbody tr th:only-of-type {\n",
       "        vertical-align: middle;\n",
       "    }\n",
       "\n",
       "    .dataframe tbody tr th {\n",
       "        vertical-align: top;\n",
       "    }\n",
       "\n",
       "    .dataframe thead th {\n",
       "        text-align: right;\n",
       "    }\n",
       "</style>\n",
       "<table border=\"1\" class=\"dataframe\">\n",
       "  <thead>\n",
       "    <tr style=\"text-align: right;\">\n",
       "      <th></th>\n",
       "      <th>value_1LaskAs</th>\n",
       "      <th>value_MenovesiLaskAs</th>\n",
       "      <th>value_MenoM</th>\n",
       "      <th>value_UlkoLampotila</th>\n",
       "      <th>value_LammitysS</th>\n",
       "      <th>value_LTOS</th>\n",
       "      <th>value_TuloM</th>\n",
       "      <th>value_TuloilmaLaskettuAs</th>\n",
       "      <th>value_PoistoM</th>\n",
       "      <th>value_PatterinPaluuvesiM</th>\n",
       "    </tr>\n",
       "  </thead>\n",
       "  <tbody>\n",
       "    <tr>\n",
       "      <th>0</th>\n",
       "      <td>0.0</td>\n",
       "      <td>0.526558</td>\n",
       "      <td>NaN</td>\n",
       "      <td>0.367871</td>\n",
       "      <td>0.143714</td>\n",
       "      <td>0.0</td>\n",
       "      <td>0.460240</td>\n",
       "      <td>0.531429</td>\n",
       "      <td>0.355382</td>\n",
       "      <td>NaN</td>\n",
       "    </tr>\n",
       "    <tr>\n",
       "      <th>1</th>\n",
       "      <td>0.0</td>\n",
       "      <td>0.526558</td>\n",
       "      <td>NaN</td>\n",
       "      <td>0.367871</td>\n",
       "      <td>0.143514</td>\n",
       "      <td>0.0</td>\n",
       "      <td>0.460240</td>\n",
       "      <td>0.531429</td>\n",
       "      <td>0.355382</td>\n",
       "      <td>NaN</td>\n",
       "    </tr>\n",
       "    <tr>\n",
       "      <th>2</th>\n",
       "      <td>0.0</td>\n",
       "      <td>0.526558</td>\n",
       "      <td>NaN</td>\n",
       "      <td>0.367871</td>\n",
       "      <td>0.155016</td>\n",
       "      <td>0.0</td>\n",
       "      <td>0.460240</td>\n",
       "      <td>0.531429</td>\n",
       "      <td>0.355382</td>\n",
       "      <td>NaN</td>\n",
       "    </tr>\n",
       "    <tr>\n",
       "      <th>3</th>\n",
       "      <td>0.0</td>\n",
       "      <td>0.526558</td>\n",
       "      <td>NaN</td>\n",
       "      <td>0.367871</td>\n",
       "      <td>0.144214</td>\n",
       "      <td>0.0</td>\n",
       "      <td>0.460240</td>\n",
       "      <td>0.531429</td>\n",
       "      <td>0.355382</td>\n",
       "      <td>NaN</td>\n",
       "    </tr>\n",
       "    <tr>\n",
       "      <th>4</th>\n",
       "      <td>0.0</td>\n",
       "      <td>0.526558</td>\n",
       "      <td>NaN</td>\n",
       "      <td>0.367871</td>\n",
       "      <td>0.155916</td>\n",
       "      <td>0.0</td>\n",
       "      <td>0.460240</td>\n",
       "      <td>0.531429</td>\n",
       "      <td>0.355382</td>\n",
       "      <td>NaN</td>\n",
       "    </tr>\n",
       "    <tr>\n",
       "      <th>...</th>\n",
       "      <td>...</td>\n",
       "      <td>...</td>\n",
       "      <td>...</td>\n",
       "      <td>...</td>\n",
       "      <td>...</td>\n",
       "      <td>...</td>\n",
       "      <td>...</td>\n",
       "      <td>...</td>\n",
       "      <td>...</td>\n",
       "      <td>...</td>\n",
       "    </tr>\n",
       "    <tr>\n",
       "      <th>638334</th>\n",
       "      <td>1.0</td>\n",
       "      <td>0.768912</td>\n",
       "      <td>0.555818</td>\n",
       "      <td>0.193302</td>\n",
       "      <td>0.236524</td>\n",
       "      <td>0.0</td>\n",
       "      <td>0.470458</td>\n",
       "      <td>0.550000</td>\n",
       "      <td>0.377631</td>\n",
       "      <td>0.301457</td>\n",
       "    </tr>\n",
       "    <tr>\n",
       "      <th>638335</th>\n",
       "      <td>1.0</td>\n",
       "      <td>0.768912</td>\n",
       "      <td>0.569981</td>\n",
       "      <td>0.193302</td>\n",
       "      <td>0.236524</td>\n",
       "      <td>0.0</td>\n",
       "      <td>0.470458</td>\n",
       "      <td>0.550000</td>\n",
       "      <td>0.377631</td>\n",
       "      <td>0.301457</td>\n",
       "    </tr>\n",
       "    <tr>\n",
       "      <th>638336</th>\n",
       "      <td>1.0</td>\n",
       "      <td>0.768912</td>\n",
       "      <td>0.577478</td>\n",
       "      <td>0.193302</td>\n",
       "      <td>0.236524</td>\n",
       "      <td>0.0</td>\n",
       "      <td>0.470458</td>\n",
       "      <td>0.550000</td>\n",
       "      <td>0.377631</td>\n",
       "      <td>0.301457</td>\n",
       "    </tr>\n",
       "    <tr>\n",
       "      <th>638337</th>\n",
       "      <td>1.0</td>\n",
       "      <td>0.768912</td>\n",
       "      <td>0.569981</td>\n",
       "      <td>0.193302</td>\n",
       "      <td>0.236524</td>\n",
       "      <td>0.0</td>\n",
       "      <td>0.470458</td>\n",
       "      <td>0.550000</td>\n",
       "      <td>0.377631</td>\n",
       "      <td>0.301457</td>\n",
       "    </tr>\n",
       "    <tr>\n",
       "      <th>638338</th>\n",
       "      <td>1.0</td>\n",
       "      <td>0.768912</td>\n",
       "      <td>0.557484</td>\n",
       "      <td>0.193302</td>\n",
       "      <td>0.236524</td>\n",
       "      <td>0.0</td>\n",
       "      <td>0.470458</td>\n",
       "      <td>0.550000</td>\n",
       "      <td>0.377631</td>\n",
       "      <td>0.301457</td>\n",
       "    </tr>\n",
       "  </tbody>\n",
       "</table>\n",
       "<p>638339 rows × 10 columns</p>\n",
       "</div>"
      ],
      "text/plain": [
       "        value_1LaskAs  value_MenovesiLaskAs  value_MenoM  value_UlkoLampotila  \\\n",
       "0                 0.0              0.526558          NaN             0.367871   \n",
       "1                 0.0              0.526558          NaN             0.367871   \n",
       "2                 0.0              0.526558          NaN             0.367871   \n",
       "3                 0.0              0.526558          NaN             0.367871   \n",
       "4                 0.0              0.526558          NaN             0.367871   \n",
       "...               ...                   ...          ...                  ...   \n",
       "638334            1.0              0.768912     0.555818             0.193302   \n",
       "638335            1.0              0.768912     0.569981             0.193302   \n",
       "638336            1.0              0.768912     0.577478             0.193302   \n",
       "638337            1.0              0.768912     0.569981             0.193302   \n",
       "638338            1.0              0.768912     0.557484             0.193302   \n",
       "\n",
       "        value_LammitysS  value_LTOS  value_TuloM  value_TuloilmaLaskettuAs  \\\n",
       "0              0.143714         0.0     0.460240                  0.531429   \n",
       "1              0.143514         0.0     0.460240                  0.531429   \n",
       "2              0.155016         0.0     0.460240                  0.531429   \n",
       "3              0.144214         0.0     0.460240                  0.531429   \n",
       "4              0.155916         0.0     0.460240                  0.531429   \n",
       "...                 ...         ...          ...                       ...   \n",
       "638334         0.236524         0.0     0.470458                  0.550000   \n",
       "638335         0.236524         0.0     0.470458                  0.550000   \n",
       "638336         0.236524         0.0     0.470458                  0.550000   \n",
       "638337         0.236524         0.0     0.470458                  0.550000   \n",
       "638338         0.236524         0.0     0.470458                  0.550000   \n",
       "\n",
       "        value_PoistoM  value_PatterinPaluuvesiM  \n",
       "0            0.355382                       NaN  \n",
       "1            0.355382                       NaN  \n",
       "2            0.355382                       NaN  \n",
       "3            0.355382                       NaN  \n",
       "4            0.355382                       NaN  \n",
       "...               ...                       ...  \n",
       "638334       0.377631                  0.301457  \n",
       "638335       0.377631                  0.301457  \n",
       "638336       0.377631                  0.301457  \n",
       "638337       0.377631                  0.301457  \n",
       "638338       0.377631                  0.301457  \n",
       "\n",
       "[638339 rows x 10 columns]"
      ]
     },
     "execution_count": 62,
     "metadata": {},
     "output_type": "execute_result"
    }
   ],
   "source": [
    "from sklearn.preprocessing import MinMaxScaler\n",
    "\n",
    "df_v = df[['value_1LaskAs',\n",
    "           'value_MenovesiLaskAs',\n",
    "           'value_MenoM',\n",
    "           'value_UlkoLampotila',\n",
    "           'value_LammitysS',\n",
    "           'value_LTOS',\n",
    "           'value_TuloM',\n",
    "           'value_TuloilmaLaskettuAs', \n",
    "           'value_PoistoM', \n",
    "           'value_PatterinPaluuvesiM']]\n",
    "\n",
    "scaler = MinMaxScaler()\n",
    "df_nor = pd.DataFrame(scaler.fit_transform(df_v), columns = df_v.columns)\n",
    "\n",
    "df_nor"
   ]
  },
  {
   "cell_type": "code",
   "execution_count": 63,
   "metadata": {},
   "outputs": [
    {
     "data": {
      "text/plain": [
       "array([ 70.  ,  20.  ,  12.93, -23.15,   0.  , 100.  ,   9.2 ,  16.  ,\n",
       "        15.46,  13.09])"
      ]
     },
     "execution_count": 63,
     "metadata": {},
     "output_type": "execute_result"
    }
   ],
   "source": [
    "scaler.data_min_"
   ]
  },
  {
   "cell_type": "code",
   "execution_count": 64,
   "metadata": {},
   "outputs": [
    {
     "data": {
      "text/plain": [
       "array([140.  ,  63.49,  84.95,  37.17,  99.99, 100.  ,  31.71,  23.  ,\n",
       "        32.09,  50.84])"
      ]
     },
     "execution_count": 64,
     "metadata": {},
     "output_type": "execute_result"
    }
   ],
   "source": [
    "scaler.data_max_"
   ]
  },
  {
   "cell_type": "code",
   "execution_count": null,
   "metadata": {},
   "outputs": [],
   "source": []
  }
 ],
 "metadata": {
  "kernelspec": {
   "display_name": "Python 3",
   "language": "python",
   "name": "python3"
  },
  "language_info": {
   "codemirror_mode": {
    "name": "ipython",
    "version": 3
   },
   "file_extension": ".py",
   "mimetype": "text/x-python",
   "name": "python",
   "nbconvert_exporter": "python",
   "pygments_lexer": "ipython3",
   "version": "3.7.9"
  }
 },
 "nbformat": 4,
 "nbformat_minor": 4
}
