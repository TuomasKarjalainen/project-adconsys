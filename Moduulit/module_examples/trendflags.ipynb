{
 "cells": [
  {
   "cell_type": "markdown",
   "metadata": {},
   "source": [
    "**Importit**"
   ]
  },
  {
   "cell_type": "code",
   "execution_count": 1,
   "metadata": {},
   "outputs": [],
   "source": [
    "import sys\n",
    "import pandas as pd"
   ]
  },
  {
   "cell_type": "code",
   "execution_count": 2,
   "metadata": {},
   "outputs": [],
   "source": [
    "# Tämä täytyy olla, jotta moduuleita voidaan ajaa\n",
    "\n",
    "sys.path.append(\"/home/jovyan/work/TeamAdconsys/proj3-team-adconsys/Moduulit/modules\")"
   ]
  },
  {
   "cell_type": "code",
   "execution_count": 3,
   "metadata": {},
   "outputs": [],
   "source": [
    "from trendflagspoisto import *"
   ]
  },
  {
   "cell_type": "markdown",
   "metadata": {},
   "source": [
    "**Otetaan data**"
   ]
  },
  {
   "cell_type": "code",
   "execution_count": 4,
   "metadata": {},
   "outputs": [
    {
     "name": "stderr",
     "output_type": "stream",
     "text": [
      "/opt/conda/lib/python3.7/site-packages/IPython/core/interactiveshell.py:3147: DtypeWarning: Columns (9,10,17,18,25,26,37,38) have mixed types.Specify dtype option on import or set low_memory=False.\n",
      "  interactivity=interactivity, compiler=compiler, result=result)\n"
     ]
    },
    {
     "data": {
      "text/html": [
       "<div>\n",
       "<style scoped>\n",
       "    .dataframe tbody tr th:only-of-type {\n",
       "        vertical-align: middle;\n",
       "    }\n",
       "\n",
       "    .dataframe tbody tr th {\n",
       "        vertical-align: top;\n",
       "    }\n",
       "\n",
       "    .dataframe thead th {\n",
       "        text-align: right;\n",
       "    }\n",
       "</style>\n",
       "<table border=\"1\" class=\"dataframe\">\n",
       "  <thead>\n",
       "    <tr style=\"text-align: right;\">\n",
       "      <th></th>\n",
       "      <th>timestamp</th>\n",
       "      <th>trendFlags_1LaskAs</th>\n",
       "      <th>status_1LaskAs</th>\n",
       "      <th>value_1LaskAs</th>\n",
       "      <th>value_difference_1LaskAs</th>\n",
       "      <th>trendFlags_MenovesiLaskAs</th>\n",
       "      <th>status_MenovesiLaskAs</th>\n",
       "      <th>value_MenovesiLaskAs</th>\n",
       "      <th>value_difference_MenovesiLaskAs</th>\n",
       "      <th>trendFlags_MenoM</th>\n",
       "      <th>...</th>\n",
       "      <th>value_TuloilmaLaskettuAs</th>\n",
       "      <th>value_difference_TuloilmaLaskettuAs</th>\n",
       "      <th>trendFlags_PoistoM</th>\n",
       "      <th>status_PoistoM</th>\n",
       "      <th>value_PoistoM</th>\n",
       "      <th>value_difference_PoistoM</th>\n",
       "      <th>trendFlags_PatterinPaluuvesiM</th>\n",
       "      <th>status_PatterinPaluuvesiM</th>\n",
       "      <th>value_PatterinPaluuvesiM</th>\n",
       "      <th>value_difference_PatterinPaluuvesiM</th>\n",
       "    </tr>\n",
       "  </thead>\n",
       "  <tbody>\n",
       "    <tr>\n",
       "      <th>0</th>\n",
       "      <td>2019-04-03 08:51:00</td>\n",
       "      <td>{start}</td>\n",
       "      <td>{ok}</td>\n",
       "      <td>140.0</td>\n",
       "      <td>NaN</td>\n",
       "      <td>{start}</td>\n",
       "      <td>{ok}</td>\n",
       "      <td>42.42</td>\n",
       "      <td>NaN</td>\n",
       "      <td>NaN</td>\n",
       "      <td>...</td>\n",
       "      <td>20.29</td>\n",
       "      <td>NaN</td>\n",
       "      <td>{start}</td>\n",
       "      <td>{ok}</td>\n",
       "      <td>21.07</td>\n",
       "      <td>NaN</td>\n",
       "      <td>NaN</td>\n",
       "      <td>NaN</td>\n",
       "      <td>NaN</td>\n",
       "      <td>NaN</td>\n",
       "    </tr>\n",
       "    <tr>\n",
       "      <th>1</th>\n",
       "      <td>2019-04-03 09:16:00</td>\n",
       "      <td>{start}</td>\n",
       "      <td>{ok}</td>\n",
       "      <td>140.0</td>\n",
       "      <td>NaN</td>\n",
       "      <td>{ }</td>\n",
       "      <td>{ok}</td>\n",
       "      <td>41.90</td>\n",
       "      <td>-0.52</td>\n",
       "      <td>NaN</td>\n",
       "      <td>...</td>\n",
       "      <td>20.29</td>\n",
       "      <td>NaN</td>\n",
       "      <td>{start}</td>\n",
       "      <td>{ok}</td>\n",
       "      <td>21.07</td>\n",
       "      <td>NaN</td>\n",
       "      <td>NaN</td>\n",
       "      <td>NaN</td>\n",
       "      <td>NaN</td>\n",
       "      <td>NaN</td>\n",
       "    </tr>\n",
       "    <tr>\n",
       "      <th>2</th>\n",
       "      <td>2019-04-03 09:33:00</td>\n",
       "      <td>{start}</td>\n",
       "      <td>{ok}</td>\n",
       "      <td>140.0</td>\n",
       "      <td>NaN</td>\n",
       "      <td>{ }</td>\n",
       "      <td>{ok}</td>\n",
       "      <td>41.37</td>\n",
       "      <td>-0.53</td>\n",
       "      <td>NaN</td>\n",
       "      <td>...</td>\n",
       "      <td>20.29</td>\n",
       "      <td>NaN</td>\n",
       "      <td>{start}</td>\n",
       "      <td>{ok}</td>\n",
       "      <td>21.07</td>\n",
       "      <td>NaN</td>\n",
       "      <td>NaN</td>\n",
       "      <td>NaN</td>\n",
       "      <td>NaN</td>\n",
       "      <td>NaN</td>\n",
       "    </tr>\n",
       "    <tr>\n",
       "      <th>3</th>\n",
       "      <td>2019-04-03 09:51:00</td>\n",
       "      <td>{start}</td>\n",
       "      <td>{ok}</td>\n",
       "      <td>140.0</td>\n",
       "      <td>NaN</td>\n",
       "      <td>{ }</td>\n",
       "      <td>{ok}</td>\n",
       "      <td>40.85</td>\n",
       "      <td>-0.52</td>\n",
       "      <td>NaN</td>\n",
       "      <td>...</td>\n",
       "      <td>20.29</td>\n",
       "      <td>NaN</td>\n",
       "      <td>{start}</td>\n",
       "      <td>{ok}</td>\n",
       "      <td>21.07</td>\n",
       "      <td>NaN</td>\n",
       "      <td>NaN</td>\n",
       "      <td>NaN</td>\n",
       "      <td>NaN</td>\n",
       "      <td>NaN</td>\n",
       "    </tr>\n",
       "    <tr>\n",
       "      <th>4</th>\n",
       "      <td>2019-04-03 10:10:00</td>\n",
       "      <td>{start}</td>\n",
       "      <td>{ok}</td>\n",
       "      <td>140.0</td>\n",
       "      <td>NaN</td>\n",
       "      <td>{ }</td>\n",
       "      <td>{ok}</td>\n",
       "      <td>40.33</td>\n",
       "      <td>-0.52</td>\n",
       "      <td>NaN</td>\n",
       "      <td>...</td>\n",
       "      <td>20.29</td>\n",
       "      <td>NaN</td>\n",
       "      <td>{start}</td>\n",
       "      <td>{ok}</td>\n",
       "      <td>21.07</td>\n",
       "      <td>NaN</td>\n",
       "      <td>NaN</td>\n",
       "      <td>NaN</td>\n",
       "      <td>NaN</td>\n",
       "      <td>NaN</td>\n",
       "    </tr>\n",
       "  </tbody>\n",
       "</table>\n",
       "<p>5 rows × 41 columns</p>\n",
       "</div>"
      ],
      "text/plain": [
       "             timestamp trendFlags_1LaskAs status_1LaskAs  value_1LaskAs  \\\n",
       "0  2019-04-03 08:51:00            {start}           {ok}          140.0   \n",
       "1  2019-04-03 09:16:00            {start}           {ok}          140.0   \n",
       "2  2019-04-03 09:33:00            {start}           {ok}          140.0   \n",
       "3  2019-04-03 09:51:00            {start}           {ok}          140.0   \n",
       "4  2019-04-03 10:10:00            {start}           {ok}          140.0   \n",
       "\n",
       "   value_difference_1LaskAs trendFlags_MenovesiLaskAs status_MenovesiLaskAs  \\\n",
       "0                       NaN                   {start}                  {ok}   \n",
       "1                       NaN                       { }                  {ok}   \n",
       "2                       NaN                       { }                  {ok}   \n",
       "3                       NaN                       { }                  {ok}   \n",
       "4                       NaN                       { }                  {ok}   \n",
       "\n",
       "   value_MenovesiLaskAs  value_difference_MenovesiLaskAs trendFlags_MenoM  \\\n",
       "0                 42.42                              NaN              NaN   \n",
       "1                 41.90                            -0.52              NaN   \n",
       "2                 41.37                            -0.53              NaN   \n",
       "3                 40.85                            -0.52              NaN   \n",
       "4                 40.33                            -0.52              NaN   \n",
       "\n",
       "   ... value_TuloilmaLaskettuAs  value_difference_TuloilmaLaskettuAs  \\\n",
       "0  ...                    20.29                                  NaN   \n",
       "1  ...                    20.29                                  NaN   \n",
       "2  ...                    20.29                                  NaN   \n",
       "3  ...                    20.29                                  NaN   \n",
       "4  ...                    20.29                                  NaN   \n",
       "\n",
       "   trendFlags_PoistoM status_PoistoM value_PoistoM  value_difference_PoistoM  \\\n",
       "0             {start}           {ok}         21.07                       NaN   \n",
       "1             {start}           {ok}         21.07                       NaN   \n",
       "2             {start}           {ok}         21.07                       NaN   \n",
       "3             {start}           {ok}         21.07                       NaN   \n",
       "4             {start}           {ok}         21.07                       NaN   \n",
       "\n",
       "   trendFlags_PatterinPaluuvesiM status_PatterinPaluuvesiM  \\\n",
       "0                            NaN                       NaN   \n",
       "1                            NaN                       NaN   \n",
       "2                            NaN                       NaN   \n",
       "3                            NaN                       NaN   \n",
       "4                            NaN                       NaN   \n",
       "\n",
       "  value_PatterinPaluuvesiM  value_difference_PatterinPaluuvesiM  \n",
       "0                      NaN                                  NaN  \n",
       "1                      NaN                                  NaN  \n",
       "2                      NaN                                  NaN  \n",
       "3                      NaN                                  NaN  \n",
       "4                      NaN                                  NaN  \n",
       "\n",
       "[5 rows x 41 columns]"
      ]
     },
     "execution_count": 4,
     "metadata": {},
     "output_type": "execute_result"
    }
   ],
   "source": [
    "df = pd.read_csv('/home/jovyan/work/TeamAdconsys/proj3-team-adconsys/Datat/csv/yhdistetty_df.csv', header=0)\n",
    "df.head(5)"
   ]
  },
  {
   "cell_type": "code",
   "execution_count": 7,
   "metadata": {},
   "outputs": [
    {
     "name": "stdout",
     "output_type": "stream",
     "text": [
      "Help on function trendflagsit in module trendflagspoisto:\n",
      "\n",
      "trendflagsit(df)\n",
      "    [Deletes all rows where trendFlags is start]\n",
      "    \n",
      "    Parameters:\n",
      "        df   ([type]): [pandas Dataframe]\n",
      "        \n",
      "    \n",
      "    Returns:\n",
      "        pandas Dataframe\n",
      "\n"
     ]
    }
   ],
   "source": [
    "help(trendflagsit)"
   ]
  },
  {
   "cell_type": "markdown",
   "metadata": {},
   "source": [
    "**Ajetaan moduuli**"
   ]
  },
  {
   "cell_type": "code",
   "execution_count": 5,
   "metadata": {},
   "outputs": [
    {
     "name": "stdout",
     "output_type": "stream",
     "text": [
      "rows at the start:  1166627\n",
      "rows after operation:  1151339\n"
     ]
    }
   ],
   "source": [
    "df= trendflagsit(df)"
   ]
  },
  {
   "cell_type": "markdown",
   "metadata": {},
   "source": [
    "**Rivejä lähti**"
   ]
  },
  {
   "cell_type": "code",
   "execution_count": 6,
   "metadata": {},
   "outputs": [
    {
     "name": "stdout",
     "output_type": "stream",
     "text": [
      "rivejä poistunut =  15288\n"
     ]
    }
   ],
   "source": [
    "print('rivejä poistunut = ',1166627-1151339 )"
   ]
  },
  {
   "cell_type": "code",
   "execution_count": null,
   "metadata": {},
   "outputs": [],
   "source": []
  }
 ],
 "metadata": {
  "kernelspec": {
   "display_name": "Python 3",
   "language": "python",
   "name": "python3"
  },
  "language_info": {
   "codemirror_mode": {
    "name": "ipython",
    "version": 3
   },
   "file_extension": ".py",
   "mimetype": "text/x-python",
   "name": "python",
   "nbconvert_exporter": "python",
   "pygments_lexer": "ipython3",
   "version": "3.7.9"
  }
 },
 "nbformat": 4,
 "nbformat_minor": 4
}
