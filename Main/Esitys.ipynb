{
 "cells": [
  {
   "cell_type": "markdown",
   "metadata": {},
   "source": [
    "### Tilaaja\n",
    "Adconsys on suomalainen yritys, joka tuottaa rakennuksien automaatiojärjestelmiä ja automaatiojärjestelmien hallintajärjestelmiä.\n",
    "\n",
    "### Tavoite\n",
    "\n",
    "Luoda ennustusmalli, jolla voidaan ennustaa ilmanvaihtokoneen lämmityspatterille lähtevän veden lämpötilaa muiden järjestelmästä saatujen arvojen perusteella.\n",
    "\n",
    "Nykyisin lämpötila lasketaan valmiin käyrän mukaan, joka on laskettu hieman yläkanttiin, jotta lämmityspatterilta palaavan vedeen lämpötila ei vahingossakaan laske liian alhaiseksi.\n",
    "\n",
    "Tarkoituksena on korvata käyrä ennustusmallilla. Lämmityspatterille tulevan veden määrää säätävä venttiili on PID-säädin, joka laskee, kuinka paljon venttiilin tulisi olla avoinna menoveden mittausarvon ja lasketun arvon perusteella.\n",
    "\n",
    "Jatkossa ennustusmallia on tarkoituksena muokata niin, että se pystyy ennakoimaan säätöarvoja esimerkiksi sääennustuksen ja energiankulutuksen pohjalta."
   ]
  },
  {
   "cell_type": "markdown",
   "metadata": {},
   "source": [
    "![](https://gitlab.dclabra.fi/wiki/uploads/upload_ced789c89dabfcce4b8b48654224b89f.png)"
   ]
  },
  {
   "cell_type": "markdown",
   "metadata": {},
   "source": [
    "### Projektisuunnitelma\n",
    "Tarkemmat vaatimukset ja reunaehdot löytyvät [projektisuunnitelmasta](https://gitlab.dclabra.fi/jvartiainen/proj3-team-adconsys/-/blob/master/Dokumentit/Projekti_3.pdf).\n",
    "\n",
    "![](https://gitlab.dclabra.fi/wiki/uploads/upload_c3f3367eae12108794942a277100f299.png)"
   ]
  },
  {
   "cell_type": "markdown",
   "metadata": {},
   "source": [
    "## Data-aineisto"
   ]
  },
  {
   "cell_type": "markdown",
   "metadata": {},
   "source": [
    "### Formaatti\n",
    "Saimme tilaajalta 10 kpl .xml tiedostoa. Nämä muutettiin .csv -muotoon, jotta niitä on helpompi käsitellä Pandasilla.\n",
    "\n",
    "![](https://gitlab.dclabra.fi/wiki/uploads/upload_2fed80313cd1205b87833e4cdd9046a1.png)"
   ]
  },
  {
   "cell_type": "markdown",
   "metadata": {},
   "source": [
    "Formaatin muutoksen jälkeen dataa on tämän verran:\n",
    "\n",
    "\n",
    "|Tiedosto|Koko (MiB)|Rivimääärä|Alku|Loppu|\n",
    "|---|---|---|---|---|\n",
    "|IV_TE3A_Meno_M|19.3|533,439|18-May-20 8:30 PM EEST|07-May-21 7:57 AM EEST|\n",
    "|IV_TE3A_Menovesi_LaskAs|0.8|21,752|03-Apr-19 8:51 AM EEST|07-May-21 7:36 AM EEST|\n",
    "|TK1_LTO_S|3.9|108,333|16-May-19 3:16 PM EEST|06-May-21 4:03 AM EEST|\n",
    "|TK1_TE1_2_PatterinPaluuvesi_M|3.8|106,585|04-Feb-20 10:40 PM EET|07-May-21 6:14 AM EEST|\n",
    "|TK1_TE1_3_Tulo_M|2.1|59,388|17-Dec-19 10:06 AM EET|06-May-21 9:59 PM EEST|\n",
    "|TK1_TE1_3_Tuloilma_LaskettuAs|0.24|6,576|03-Apr-19 8:51 AM EEST|03-May-21 4:39 PM EEST|\n",
    "|TK1_TE1_4_Poisto_M|0.19|5,021|03-Apr-19 8:51 AM EEST|07-May-21 3:59 AM EEST|\n",
    "|TK1_TF1_PE1_1_LaskAs|0.06|1,547|03-Apr-19 8:51 AM EEST|07-May-21 6:00 AM EEST|\n",
    "|TK1_TV1_1_Lammitys_S|3.5|97,625|23-Jan-20 9:28 PM EET|07-May-21 6:23 AM EEST|\n",
    "|Ulkolampotila|1.1|31,521|03-Apr-19 8:51 AM EEST|07-May-21 7:36 AM EES|"
   ]
  },
  {
   "cell_type": "markdown",
   "metadata": {},
   "source": [
    "### Yhdistäminen\n",
    "\n",
    "Jokaisessa tiedostossa on dataa eri aikaväleillä. Tiedostot täytyy saada yhdistettyä yhteen DataFrameen, koska useassa tiedostossa on dataa, joka täytyy siivota.\n",
    "\n",
    "Virheellinen data täytyy saada poistettua jokaisesta tiedostosta samaan aikaan, sillä jos esimerkiksi ilmanvaihtokone on sammuksissa, ei minkään tiedoston data ole käytettävää.\n",
    "\n",
    "Yhdistäminen tehdään timestamppien avulla. Yhdistämistä varten on timestampit muutettava datetime -muotoon, jolloin ajasta korjaantuu kesä-ja talviaika pois, ja se muuttuu 24h -muotoon.\n",
    "\n",
    "Jokainen tiedoston timestampin tulee lopulliseen dataframeen. Rivien arvot haetaan edellisen arvon perusteella.\n",
    "\n",
    "![](https://gitlab.dclabra.fi/wiki/uploads/upload_3e95bb5629d7fbe4536da3787a860f4c.png)"
   ]
  },
  {
   "cell_type": "markdown",
   "metadata": {},
   "source": [
    "![](https://gitlab.dclabra.fi/wiki/uploads/upload_652cc790ad7042255e8fc6417ca0da0e.png)"
   ]
  },
  {
   "cell_type": "markdown",
   "metadata": {},
   "source": [
    "Poistetaan duplikaatit ja NaN-arvot.\n",
    "\n",
    "<!-- ![](https://gitlab.dclabra.fi/wiki/uploads/upload_27e0ac92dd1b6783af0601dd14f599d3.png) -->"
   ]
  },
  {
   "cell_type": "markdown",
   "metadata": {},
   "source": [
    "![](https://gitlab.dclabra.fi/wiki/uploads/upload_1fd2aa0dc229c3e665f986a72fb72d31.png)"
   ]
  },
  {
   "cell_type": "markdown",
   "metadata": {},
   "source": [
    "### Siivoaminen ja muokkaaminen\n",
    "\n",
    "Datassa ennustuksen kannalta tärkeitä sarakkeita ovat value-sarakkeet, joiden kuvaajat näyttävät tältä:\n",
    "\n",
    "![](https://gitlab.dclabra.fi/wiki/uploads/upload_298507780f6001df640b0254df56158a.png)\n",
    "\n",
    "Dataa poistettiin Adconsysiltä saadun tiedon pohjalta seuraavasti:\n",
    "\n",
    "#### Lämpötila ja säätöarvot\n",
    "Lämpötilaa mittaavat sensorit tallentavat uuden arvon aina, kun lämpötilassa tapahtuu 0.5 asteen muutos. Säätöarvoja mittaavat sensorit tallentavat uuden arvon aina, kun säädössä tapahtuu 1% muutos.\n",
    "\n",
    "Huomasimme, että järjestelmä on kuitenkin melko hidas, ja jos muutosta tapahtuu nopeasti, saataa kahden rivin välinen muutos olla edellä mainittuja arvoja huomattavasti suurempi. Päätimme, että emme erikseen lähde poistamaan dataa kähden rivin välisen muutoksen perusteella, koska melko helposti lähdetään poistamaan kunnollista dataa.\n",
    "\n",
    "#### Status\n",
    "Status -sarakeessa olevat arvot kertovat tallennetun mittaustuloksen \"tilan\". Fault- ja Down-arvot tarkoittavat, että systeemissä on jokin virhe, eikä mittaustulokset ole luotettavia. Nämä arvot voidaan suoraan poistaa. Overridden-arvot ovat käsin säädettyjä arvoja. Mittaus- ja säätödataa sisältävistä tiedostoista nämä voidaan poistaa.\n",
    "\n",
    "#### TrendFlags\n",
    "TrendFlags-sarakkeen arvoissa ei ole mitään tarpeellista tietoa.\n",
    "\n",
    "#### LTO:n arvo < 100\n",
    "Tarkoittaa, että lämmöntalteenottoa ei hyödynnetä täysin. Tällöin venttiilin TV1.1 on oltava suljettuna.\n",
    "\n",
    "#### 1LaskAs == 0\n",
    "Kone on kiinni. Automaatio pakottaa venttiilin täysin auki, eli säätöä ei tarvitse tehdä. \n",
    "\n",
    "#### Outlierit & Duplikaatit\n",
    "Koneen sulkeitumisen johdosta dataan on muodostunut muutamia piikkejä. Nämä piikit poistetaan, sillä koneen sulkeituminenkin poistetaan datasta.\n",
    "Myös muista value-sarakkeista poistetaan selkeät outlierit.\n",
    "\n",
    "#### Normalisointi\n",
    "Lopuksi muut sarakkeet paitsi ennustettettava sarake normalisoidaan."
   ]
  },
  {
   "cell_type": "markdown",
   "metadata": {},
   "source": [
    "![](https://gitlab.dclabra.fi/wiki/uploads/upload_8ab2b8a1ed3a2f6e7aef81e0494a04b7.png)"
   ]
  },
  {
   "cell_type": "markdown",
   "metadata": {},
   "source": [
    "Jäljellä olevien rivien määrä, kun dataa on poistettu operaatioiden jälkeen.\n",
    "\n",
    "![](https://gitlab.dclabra.fi/wiki/uploads/upload_81e450155d5c94931a45e4417b5fb5d5.png)"
   ]
  },
  {
   "cell_type": "markdown",
   "metadata": {},
   "source": [
    "### Datan jakaminen"
   ]
  },
  {
   "cell_type": "markdown",
   "metadata": {},
   "source": [
    "![](https://gitlab.dclabra.fi/wiki/uploads/upload_36ef02686e8f4af716f3737a84e92646.png)"
   ]
  },
  {
   "cell_type": "markdown",
   "metadata": {},
   "source": [
    "Siivottu data jaetaan treeni-, testi- ja validointisetteihin.\n",
    "Kokonaisdataa on 642011 riviä. Näistä 407,175 riviä jää treenisettiin, 117,269 riviä testisettiin ja 117,567 validointisettiin.\n",
    "- Treeni 63.4%\n",
    "- Testi 18.3%\n",
    "- Validointi 18.3%\n",
    "\n",
    "Testisettiin erotettiin kaikki '2021-02-15 11:21:00' jälkeen oleva data.\n",
    "Loppu data jaettiin treeni- ja validointisetteihin siten, että joka viides päivä erotettiin validointisettiin.\n",
    "\n",
    "Kuvaajasta nähdään miten data on jakautunut eri setteihin. On tärkeää, että jokaisessa datasetissä on dataa sekä viikoltä, että viikonlopulta, koska viikonloppuisin koulu on kiinni ja se vaikuttaa ilmanvaihtokoneen säätöihin.\n",
    "\n",
    "\n",
    "![](https://gitlab.dclabra.fi/wiki/uploads/upload_bd2ef4050015ef146b8021916f17acc2.png)"
   ]
  },
  {
   "cell_type": "markdown",
   "metadata": {},
   "source": [
    "Lopuksi timestamp poistetaan kaikista dataseteistä. Jokaisesta datasetistä luodaan oma piirrematriisi ja \"IV_TE3A_Menovesi_LaskAs\" -sarake erotetaan tavoitevektoriksi.\n"
   ]
  },
  {
   "cell_type": "markdown",
   "metadata": {},
   "source": [
    "![](https://gitlab.dclabra.fi/wiki/uploads/upload_702dcb702ebf8152357edbe7684f65b8.png)"
   ]
  },
  {
   "cell_type": "markdown",
   "metadata": {},
   "source": [
    "## Arkkitehtuurisuunnitelma"
   ]
  },
  {
   "cell_type": "markdown",
   "metadata": {},
   "source": [
    "Eri tiedostoja ja datasettejä on useita ja ne kaikki on tallennettu gitlabiin. Gitlabin tarkempi kansiorakenne, sekä projektissa käytettävien kirjastojen versiot löytyvät [täältä](https://gitlab.dclabra.fi/jvartiainen/proj3-team-adconsys/-/blob/master/Dokumentit/Arkkitehtuurisuunnitelma_uusin.pdf)."
   ]
  },
  {
   "cell_type": "markdown",
   "metadata": {},
   "source": [
    "## Testatut koneoppimismenetelmät"
   ]
  },
  {
   "cell_type": "markdown",
   "metadata": {},
   "source": [
    "Testasimme projektissa vain luokitteluun käytettävää neuroverkkoa ja regressio-ongelmiin käytettävää verkkoa.\n",
    "\n",
    "#### Luokitteluverkko\n",
    "\n",
    "|Optimizer|Criterion|Activation|IP L|HL 2|HL 3|output|Accuracy|Epochs|Max +virhe| Max -virhe|Keskihajonta|mallit|\n",
    "|---|---|---|---|---|---|---|---|---|---|---|---|---|\n",
    "|```Adam(lr=0.001)```   |```CrossEntropyLoss```   |```ReLu```|```Linear(8, 512)```   |```Linear(512, 256)```   |```Linear(256, 128)```   |```Linear(128,67), LogSoftmax```|0.619  |3|5|-3|0.667|clas_CEL_3e.pth|\n",
    "|```Adam(lr=0.001)```   |```CrossEntropyLoss```   |```ReLu```|```Linear(8, 512)```   |```Linear(512, 256)```   |```Linear(256, 128)```   |```Linear(128,67), LogSoftmax```|0.719  |5|15|-3|0.630|clas_CEL_5e.pth|\n",
    "|```Adam(lr=0.001)```   |```MultiMarginLoss```   |```ReLu```|```Linear(8, 512)```   |```Linear(512, 256)```   |```Linear(256, 128)```   |```Linear(128,67), LogSoftmax```|0.691  |3|5|-3|0.670|clas_MM_3e.pth|\n",
    "|```Adam(lr=0.001)```   |```MultiMarginLoss```   |```ReLu```|```Linear(8, 512)```   |```Linear(512, 256)```   |```Linear(256, 128)```   |```Linear(128,67), LogSoftmax```|0.710  |5|3|-25|0.600|clas_MM_5e.pth|\n",
    "|```Adam(lr=0.001)```   |```MultiMarginLoss```   |```ReLu```|```Linear(8, 512)```   |```Linear(512, 256)```   |```Linear(256, 128)```   |```Linear(128,67), LogSoftmax```|0.746  |7|3|-2|0.594|clas_7e.pth|"
   ]
  },
  {
   "cell_type": "markdown",
   "metadata": {},
   "source": [
    "Verkon hyvyyttä ei pysty pelkällä tarkkuudella määrittämään, sillä vaikka suurin osa ennustettavista lämpötiloista olisi oikein, saattaa loput olla hyvinkin kaukana tavoitearvosta.\n",
    "\n",
    "Hyvyyttä voidaan mitata usealla eri tavalla, mutta parhaiten sitä voidaan arvoida kuvaajalla.\n",
    "\n",
    "![](https://gitlab.dclabra.fi/wiki/uploads/upload_7e0eed18963c69fa79189072e1a321a8.png)\n",
    "\n",
    "Luokitteluverkot olivat meidän ensimmäinen testi, ja niillä saatiin yllättävän hyviä tuloksia todella nopeasti."
   ]
  },
  {
   "cell_type": "markdown",
   "metadata": {},
   "source": [
    "### Regressioverkko\n",
    "\n",
    "|Optimizer|Criterion|Activation|IP L|HL 2|HL 3|HL 4|HL 5|output|Accuracy|Epochs|Max +virhe| Max -virhe|Keskihajonta|mallit|\n",
    "|---|---|---|---|---|---|---|---|---|---|---|---|---|---|---|\n",
    "|```Adam(lr=0.001)```   |```MSELoss```   |```ReLu```|```Linear(8, 512)```   |```Linear(512, 256)```   |```Linear(256, 128)```   |```Linear(128, 64)```|```Linear(64, 32)```|```Linear(32, 1)```|-  |3|0.790|-1.685|0.222|reg_3epoch.pth|\n",
    "|```Adam(lr=0.001)```   |```MSELoss```   |```ReLu```|```Linear(8, 512)```   |```Linear(512, 256)```   |```Linear(256, 128)```   |```Linear(128, 64)```|```Linear(64, 32)```|```Linear(32, 1)```|-  |5|1.622|-1.011|0.218|reg_5_e.pth|\n",
    "|```Adam(lr=0.001)```   |```MSELoss```   |```ReLu```|```Linear(8, 512)```   |```Linear(512, 256)```   |```Linear(256, 128)```   |```Linear(128, 64)```|```Linear(64, 32)```|```Linear(32, 1)```|-  |5|1.066|-1.674|0.212|reg_5epoch.pth|\n",
    "|```Adam(lr=0.001)```   |```MSELoss```   |```ReLu```|```Linear(8, 512)```   |```Linear(512, 256)```   |```Linear(256, 128)```   |```Linear(128, 64)```|```Linear(64, 32)```|```Linear(32, 1)```|-  |7|0.607|-1.267|0.212|reg_7epoch.pth|\n",
    "|```Adam(lr=0.001)```   |```MSELoss```   |```ReLu```|```Linear(8, 512)```   |```Linear(512, 256)```   |```Linear(256, 128)```   |```Linear(128, 64)```|```Linear(64, 32)```|```Linear(32, 1)```|-  |10|1.622|-1.137|0.239|n_red10e.pth|\n",
    "|```Adam(lr=0.001)```   |```MSELoss```   |```ReLu```|```Linear(8, 512)```   |```Linear(512, 256)```   |```Linear(256, 128)```   |```Linear(128, 64)```|```Linear(64, 32)```|```Linear(32, 1)```|-  |10|1.119|-0.896|0.205|reg_10epoch.pth|\n",
    "|```Adam(lr=0.001)```   |```MSELoss```   |```ReLu```|```Linear(8, 512)```   |```Linear(512, 256)```   |```Linear(256, 128)```   |```Linear(128, 64)```|```Linear(64, 32)```|```Linear(32, 1)```|-  |15|0.871|-1.080|0.218|reg_15epoch.pth|"
   ]
  },
  {
   "cell_type": "markdown",
   "metadata": {},
   "source": [
    "![](https://gitlab.dclabra.fi/wiki/uploads/upload_d77edf5e091aa6eae696d5848aff010d.png)"
   ]
  },
  {
   "cell_type": "markdown",
   "metadata": {},
   "source": [
    "## Tulosten pohdinta"
   ]
  },
  {
   "cell_type": "markdown",
   "metadata": {},
   "source": [
    "- Regressioverkolla saadaan huomattavasti parempia tuloksia verrattuna luokitteluverkkoon.\n",
    "- Ulkolämpötila korreloi lähes 100% ennustettavan menoveden kanssa, joten mallin on melko helppo oppia sen ennustaminen.\n",
    "- Testidata on vuodenajalta, jolla mallia ei ole ollenkaan opetettu. Silti se ennustaa hyvin tarkasti. Näistä syistä mallin ennustuksiin voidaan luottaa.\n",
    "- Malli on opetettu yhden rakennuksen datalla, joten se oletettavasti toimii vain sille rakennukselle. \n",
    "\n",
    "- Alkuperäinen tavoite oli luoda malli, jolla voidaan minimoida lämmityskustannuksia ennustamalla, millä saatöarvoilla saavutetaan riittävä menoveden lämpötila siten, että tavoitearvot saavutetaan.\n",
    "    - Saimme toiseksi viimeisellä viikolla kaavan, jolla voidaan laskea energiankulutus.\n",
    "    - Pidemmälle olisi voinut päästä, jos olisi tuntemusta säätöjärjestelmistä.\n",
    "- Saimme kuitenkin luotua mallin, jolla voidaan laskea mikä menoveden tavoitearvon tulisi olla."
   ]
  },
  {
   "cell_type": "markdown",
   "metadata": {},
   "source": [
    "## Mahdolliset jatkokehityskohteet"
   ]
  },
  {
   "cell_type": "markdown",
   "metadata": {},
   "source": [
    "- Datan siivoamisessa ja esikäsittelyssä tulisi tuntea ilmanvaihtosysteemi paremmin, sekä mitkä kaikki arvot todella ovat oleellisia lopullisen ennustuksen kannalta.\n",
    "- Ennustusmallin tarkkuutta voi varmasti vielä parantaa säätämällä sen parametrejä.\n",
    "    - Olisi myös ollut mielenkiintoista testata miten malli ennustaa jostakin toisesta rakennuksesta kerätyllä datalla.\n",
    "- Energian kulutuksen minimointi.\n",
    "- Mallin käyttöönotto. \n",
    "    - Ennustumallille .py tiedosto, joka voidaan ottaa käyttöön toimeksiantajan järjestelmässä.\n",
    "    - Ehdot milloin mallin tarvitsee ennustaa. LTO:n hyötyprosentti ja venttiilin säätöarvot.\n",
    "- Kesäajalle voisi testata omaa mallia, sillä koulu on kiinni, eikä lämmityksestä tarvi silloin kovin paljoa välittää."
   ]
  },
  {
   "cell_type": "code",
   "execution_count": null,
   "metadata": {},
   "outputs": [],
   "source": []
  }
 ],
 "metadata": {
  "kernelspec": {
   "display_name": "Python 3",
   "language": "python",
   "name": "python3"
  },
  "language_info": {
   "codemirror_mode": {
    "name": "ipython",
    "version": 3
   },
   "file_extension": ".py",
   "mimetype": "text/x-python",
   "name": "python",
   "nbconvert_exporter": "python",
   "pygments_lexer": "ipython3",
   "version": "3.9.2"
  }
 },
 "nbformat": 4,
 "nbformat_minor": 4
}
