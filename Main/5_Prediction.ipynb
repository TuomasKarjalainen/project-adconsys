{
 "cells": [
  {
   "cell_type": "code",
   "execution_count": 1,
   "metadata": {},
   "outputs": [],
   "source": [
    "import sys\n",
    "import pandas as pd\n",
    "import numpy as np\n",
    "import glob\n",
    "\n",
    "import warnings\n",
    "warnings.filterwarnings('ignore')\n",
    "sys.path.append(\"../Moduulit/modules\")\n",
    "sys.path.append(\"../Datat/Mittaukset\")\n",
    "sys.path.append(\"../Datat/koskemattomat_csv\")\n",
    "sys.path.append(\"../Datat/csv\")"
   ]
  },
  {
   "cell_type": "code",
   "execution_count": 2,
   "metadata": {},
   "outputs": [
    {
     "data": {
      "text/html": [
       "<div>\n",
       "<style scoped>\n",
       "    .dataframe tbody tr th:only-of-type {\n",
       "        vertical-align: middle;\n",
       "    }\n",
       "\n",
       "    .dataframe tbody tr th {\n",
       "        vertical-align: top;\n",
       "    }\n",
       "\n",
       "    .dataframe thead th {\n",
       "        text-align: right;\n",
       "    }\n",
       "</style>\n",
       "<table border=\"1\" class=\"dataframe\">\n",
       "  <thead>\n",
       "    <tr style=\"text-align: right;\">\n",
       "      <th></th>\n",
       "      <th>value_TuloilmaLaskettuAs</th>\n",
       "      <th>value_LammitysS</th>\n",
       "      <th>value_1LaskAs</th>\n",
       "      <th>value_TuloM</th>\n",
       "      <th>value_Ulkolampotila</th>\n",
       "      <th>value_MenoM</th>\n",
       "      <th>value_PoistoM</th>\n",
       "      <th>value_PatterinPaluuvesiM</th>\n",
       "    </tr>\n",
       "  </thead>\n",
       "  <tbody>\n",
       "    <tr>\n",
       "      <th>0</th>\n",
       "      <td>20.64</td>\n",
       "      <td>70</td>\n",
       "      <td>70.0</td>\n",
       "      <td>21.21</td>\n",
       "      <td>12.93</td>\n",
       "      <td>29.31</td>\n",
       "      <td>21.65</td>\n",
       "      <td>22.22</td>\n",
       "    </tr>\n",
       "    <tr>\n",
       "      <th>1</th>\n",
       "      <td>20.64</td>\n",
       "      <td>70</td>\n",
       "      <td>70.0</td>\n",
       "      <td>21.21</td>\n",
       "      <td>12.93</td>\n",
       "      <td>28.80</td>\n",
       "      <td>21.65</td>\n",
       "      <td>22.22</td>\n",
       "    </tr>\n",
       "    <tr>\n",
       "      <th>2</th>\n",
       "      <td>20.64</td>\n",
       "      <td>70</td>\n",
       "      <td>70.0</td>\n",
       "      <td>21.21</td>\n",
       "      <td>12.93</td>\n",
       "      <td>28.21</td>\n",
       "      <td>21.65</td>\n",
       "      <td>22.22</td>\n",
       "    </tr>\n",
       "    <tr>\n",
       "      <th>3</th>\n",
       "      <td>20.64</td>\n",
       "      <td>70</td>\n",
       "      <td>70.0</td>\n",
       "      <td>21.21</td>\n",
       "      <td>12.93</td>\n",
       "      <td>27.52</td>\n",
       "      <td>21.65</td>\n",
       "      <td>22.22</td>\n",
       "    </tr>\n",
       "    <tr>\n",
       "      <th>4</th>\n",
       "      <td>20.64</td>\n",
       "      <td>70</td>\n",
       "      <td>70.0</td>\n",
       "      <td>21.21</td>\n",
       "      <td>12.93</td>\n",
       "      <td>28.33</td>\n",
       "      <td>21.65</td>\n",
       "      <td>22.22</td>\n",
       "    </tr>\n",
       "    <tr>\n",
       "      <th>...</th>\n",
       "      <td>...</td>\n",
       "      <td>...</td>\n",
       "      <td>...</td>\n",
       "      <td>...</td>\n",
       "      <td>...</td>\n",
       "      <td>...</td>\n",
       "      <td>...</td>\n",
       "      <td>...</td>\n",
       "    </tr>\n",
       "    <tr>\n",
       "      <th>1116948</th>\n",
       "      <td>22.68</td>\n",
       "      <td>70</td>\n",
       "      <td>140.0</td>\n",
       "      <td>19.76</td>\n",
       "      <td>2.47</td>\n",
       "      <td>39.30</td>\n",
       "      <td>19.85</td>\n",
       "      <td>24.57</td>\n",
       "    </tr>\n",
       "    <tr>\n",
       "      <th>1116949</th>\n",
       "      <td>22.68</td>\n",
       "      <td>70</td>\n",
       "      <td>140.0</td>\n",
       "      <td>19.76</td>\n",
       "      <td>2.47</td>\n",
       "      <td>38.70</td>\n",
       "      <td>19.85</td>\n",
       "      <td>24.57</td>\n",
       "    </tr>\n",
       "    <tr>\n",
       "      <th>1116950</th>\n",
       "      <td>22.68</td>\n",
       "      <td>70</td>\n",
       "      <td>140.0</td>\n",
       "      <td>19.76</td>\n",
       "      <td>2.47</td>\n",
       "      <td>38.07</td>\n",
       "      <td>19.85</td>\n",
       "      <td>24.57</td>\n",
       "    </tr>\n",
       "    <tr>\n",
       "      <th>1116951</th>\n",
       "      <td>22.68</td>\n",
       "      <td>70</td>\n",
       "      <td>140.0</td>\n",
       "      <td>19.76</td>\n",
       "      <td>2.47</td>\n",
       "      <td>38.93</td>\n",
       "      <td>19.85</td>\n",
       "      <td>24.57</td>\n",
       "    </tr>\n",
       "    <tr>\n",
       "      <th>1116952</th>\n",
       "      <td>22.68</td>\n",
       "      <td>70</td>\n",
       "      <td>140.0</td>\n",
       "      <td>19.76</td>\n",
       "      <td>2.47</td>\n",
       "      <td>39.51</td>\n",
       "      <td>19.85</td>\n",
       "      <td>24.57</td>\n",
       "    </tr>\n",
       "  </tbody>\n",
       "</table>\n",
       "<p>1116953 rows × 8 columns</p>\n",
       "</div>"
      ],
      "text/plain": [
       "         value_TuloilmaLaskettuAs  value_LammitysS  value_1LaskAs  \\\n",
       "0                           20.64               70           70.0   \n",
       "1                           20.64               70           70.0   \n",
       "2                           20.64               70           70.0   \n",
       "3                           20.64               70           70.0   \n",
       "4                           20.64               70           70.0   \n",
       "...                           ...              ...            ...   \n",
       "1116948                     22.68               70          140.0   \n",
       "1116949                     22.68               70          140.0   \n",
       "1116950                     22.68               70          140.0   \n",
       "1116951                     22.68               70          140.0   \n",
       "1116952                     22.68               70          140.0   \n",
       "\n",
       "         value_TuloM  value_Ulkolampotila  value_MenoM  value_PoistoM  \\\n",
       "0              21.21                12.93        29.31          21.65   \n",
       "1              21.21                12.93        28.80          21.65   \n",
       "2              21.21                12.93        28.21          21.65   \n",
       "3              21.21                12.93        27.52          21.65   \n",
       "4              21.21                12.93        28.33          21.65   \n",
       "...              ...                  ...          ...            ...   \n",
       "1116948        19.76                 2.47        39.30          19.85   \n",
       "1116949        19.76                 2.47        38.70          19.85   \n",
       "1116950        19.76                 2.47        38.07          19.85   \n",
       "1116951        19.76                 2.47        38.93          19.85   \n",
       "1116952        19.76                 2.47        39.51          19.85   \n",
       "\n",
       "         value_PatterinPaluuvesiM  \n",
       "0                           22.22  \n",
       "1                           22.22  \n",
       "2                           22.22  \n",
       "3                           22.22  \n",
       "4                           22.22  \n",
       "...                           ...  \n",
       "1116948                     24.57  \n",
       "1116949                     24.57  \n",
       "1116950                     24.57  \n",
       "1116951                     24.57  \n",
       "1116952                     24.57  \n",
       "\n",
       "[1116953 rows x 8 columns]"
      ]
     },
     "execution_count": 2,
     "metadata": {},
     "output_type": "execute_result"
    }
   ],
   "source": [
    "data = pd.read_csv(\"../Datat/uudet/csv/uusi_df.csv\")\n",
    "\n",
    "data = data[[col for col in data.columns if \"value\" in col]]\n",
    "y = data[\"value_MenovesiLaskAs\"]\n",
    "data.drop(columns=[\"value_MenovesiLaskAs\", \"value_LTOS\"], inplace=True)\n",
    "data[\"value_LammitysS\"] = 70\n",
    "data"
   ]
  },
  {
   "cell_type": "code",
   "execution_count": 3,
   "metadata": {},
   "outputs": [],
   "source": [
    "from regpred import predictreg"
   ]
  },
  {
   "cell_type": "code",
   "execution_count": 4,
   "metadata": {},
   "outputs": [
    {
     "data": {
      "text/plain": [
       "112.48279571533203"
      ]
     },
     "execution_count": 4,
     "metadata": {},
     "output_type": "execute_result"
    }
   ],
   "source": [
    "# Ennustusfunktiolle annetaan parametreina polku, jossa scaler ja malli sijaitsevat, sekä vektori, jossa on 8 elementtiä\n",
    "\n",
    "# Vektorin järjestys tulee olla:\n",
    "# ['value_MenoM','value_1LaskAs','value_Ulkolampotila','value_TuloilmaLaskettuAs','value_LammitysS','value_TuloM','value_PatterinPaluuvesiM','value_PoistoM']\n",
    "\n",
    "predictreg(\"../Mallit/\", \"reg_10epoch.pth\", [1,2,3,4,5,6,7,8])"
   ]
  },
  {
   "cell_type": "code",
   "execution_count": 4,
   "metadata": {},
   "outputs": [
    {
     "name": "stdout",
     "output_type": "stream",
     "text": [
      "Features:[29.31 70.   12.93 20.64 70.   21.21 22.22 21.65]\n",
      "Target value: 28.65 Predicted value: 28.64\n",
      "\n",
      "Features:[ 28.56 140.    11.76  20.75  70.    20.96  21.93  21.16]\n",
      "Target value: 29.49 Predicted value: 29.82\n",
      "\n",
      "Features:[31.43 70.   11.06 19.74 70.   20.11 20.78 21.6 ]\n",
      "Target value: 30.5 Predicted value: 30.96\n",
      "\n",
      "Features:[32.83 70.   23.01 21.52 70.   21.76 22.15 24.29]\n",
      "Target value: 20.25 Predicted value: 19.7\n",
      "\n",
      "Features:[ 18.87 140.    17.66  16.83  70.    21.44  21.44  19.6 ]\n",
      "Target value: 22.84 Predicted value: 22.92\n",
      "\n"
     ]
    }
   ],
   "source": [
    "for row in range(0,100000,20000):\n",
    "    prediction = predictreg(\"../Mallit/\", \"reg_10epoch.pth\", data.values[row])\n",
    "    print(f\"Features:{data.values[row]}\")\n",
    "    print(f\"Target value: {y.values[row]} Predicted value: {round(prediction,2)}\\n\")"
   ]
  },
  {
   "cell_type": "code",
   "execution_count": 74,
   "metadata": {},
   "outputs": [
    {
     "name": "stdout",
     "output_type": "stream",
     "text": [
      "15.9 ms ± 151 µs per loop (mean ± std. dev. of 7 runs, 100 loops each)\n"
     ]
    }
   ],
   "source": [
    "%%timeit\n",
    "predictreg(\"../Mallit/\", \"reg_15epoch.pth\", data.values[0], False)\n"
   ]
  },
  {
   "cell_type": "code",
   "execution_count": 5,
   "metadata": {},
   "outputs": [
    {
     "name": "stdout",
     "output_type": "stream",
     "text": [
      "\n",
      "Tensor: tensor([[0.2274, 0.0000, 0.6619, 0.6629, 0.7000, 0.7235, 0.2794, 0.5201]],\n",
      "       dtype=torch.float64)\n",
      "\n",
      "path: ../Mallit/reg_15epoch.pth\n",
      "\n",
      "Model used in prediction:\n",
      "Sequential(\n",
      "  (0): Linear(in_features=8, out_features=512, bias=True)\n",
      "  (1): ReLU()\n",
      "  (2): Linear(in_features=512, out_features=256, bias=True)\n",
      "  (3): ReLU()\n",
      "  (4): Linear(in_features=256, out_features=128, bias=True)\n",
      "  (5): ReLU()\n",
      "  (6): Linear(in_features=128, out_features=64, bias=True)\n",
      "  (7): ReLU()\n",
      "  (8): Linear(in_features=64, out_features=32, bias=True)\n",
      "  (9): ReLU()\n",
      "  (10): Linear(in_features=32, out_features=1, bias=True)\n",
      ")\n"
     ]
    },
    {
     "data": {
      "text/plain": [
       "28.862014770507812"
      ]
     },
     "execution_count": 5,
     "metadata": {},
     "output_type": "execute_result"
    }
   ],
   "source": [
    "predictreg(\"../Mallit/\", \"reg_15epoch.pth\", data.values[0], True)\n"
   ]
  },
  {
   "cell_type": "code",
   "execution_count": null,
   "metadata": {},
   "outputs": [],
   "source": []
  }
 ],
 "metadata": {
  "kernelspec": {
   "display_name": "Python 3",
   "language": "python",
   "name": "python3"
  },
  "language_info": {
   "codemirror_mode": {
    "name": "ipython",
    "version": 3
   },
   "file_extension": ".py",
   "mimetype": "text/x-python",
   "name": "python",
   "nbconvert_exporter": "python",
   "pygments_lexer": "ipython3",
   "version": "3.9.2"
  }
 },
 "nbformat": 4,
 "nbformat_minor": 4
}
